{
 "cells": [
  {
   "cell_type": "markdown",
   "metadata": {},
   "source": [
    "Preparation of Data: See example on how to export at the end of notebook 'sfari_brain'.\n",
    "\n",
    "Similarly prepared with the same script for Kidney and Lung.\n",
    "\n",
    "For the three Random degree files, see end of 'repeated_random' notebook"
   ]
  },
  {
   "cell_type": "code",
   "execution_count": 14,
   "metadata": {},
   "outputs": [],
   "source": [
    "import pandas as pd\n",
    "import numpy as np\n",
    "import matplotlib.pyplot as plt\n",
    "from scipy.stats import mannwhitneyu\n",
    "import seaborn as sns"
   ]
  },
  {
   "cell_type": "code",
   "execution_count": 15,
   "metadata": {},
   "outputs": [
    {
     "name": "stdout",
     "output_type": "stream",
     "text": [
      "720\n",
      "688\n",
      "745\n",
      "7450\n",
      "7450\n",
      "7425\n"
     ]
    }
   ],
   "source": [
    "kidney = np.loadtxt(\"kidney-degrees.txt\")\n",
    "lung = np.loadtxt(\"lung-degrees.txt\")\n",
    "brain = np.loadtxt(\"brain-degrees.txt\")\n",
    "\n",
    "kidney_r = np.loadtxt(\"kidney-random-degrees.txt\")\n",
    "lung_r = np.loadtxt(\"lung-random-degrees.txt\")\n",
    "brain_r = np.loadtxt(\"brain-random-degrees.txt\")\n",
    "\n",
    "print(len(kidney))\n",
    "print(len(lung))\n",
    "print(len(brain))\n",
    "\n",
    "print(len(kidney_r))\n",
    "print(len(lung_r))\n",
    "print(len(brain_r))"
   ]
  },
  {
   "cell_type": "code",
   "execution_count": 16,
   "metadata": {},
   "outputs": [],
   "source": [
    "toplot = [kidney_r, lung_r, brain_r, kidney, lung, brain]\n",
    "df_kid_r = pd.DataFrame({\"Node strength\": kidney_r, \"Tissue\": \"kidney\\n(random)\", \"t\": \"kidney\"})\n",
    "df_lun_r = pd.DataFrame({\"Node strength\": lung_r, \"Tissue\": \"lung\\n(random)\", \"t\": \"lung\"})\n",
    "df_bra_r = pd.DataFrame({\"Node strength\": brain_r, \"Tissue\": \"brain\\n(random)\", \"t\": \"brain\"})\n",
    "\n",
    "df_kid = pd.DataFrame({\"Node strength\": kidney, \"Tissue\": \"kidney\", \"t\": \"kidney\"})\n",
    "df_lun = pd.DataFrame({\"Node strength\": lung, \"Tissue\": \"lung\", \"t\": \"lung\"})\n",
    "df_bra = pd.DataFrame({\"Node strength\": brain, \"Tissue\": \"brain\", \"t\": \"brain\"})\n",
    "\n",
    "df_con = pd.concat([df_bra_r,\n",
    "                    df_kid_r, \n",
    "                    df_lun_r, \n",
    "                    df_bra,\n",
    "                    df_kid,\n",
    "                    df_lun])\n",
    "\n",
    "to_y = pd.array(['kidney\\n(random)',  \n",
    "           'lung\\n(random)',\n",
    "           'brain\\n(random)',\n",
    "           'kidney', 'lung', 'brain'])"
   ]
  },
  {
   "cell_type": "code",
   "execution_count": 17,
   "metadata": {},
   "outputs": [
    {
     "data": {
      "image/png": "[encoded data removed]",
      "text/plain": [
       "<Figure size 432x288 with 1 Axes>"
      ]
     },
     "metadata": {},
     "output_type": "display_data"
    }
   ],
   "source": [
    "plt.boxplot(toplot, showfliers=False)\n",
    "plt.xticks([1, 2, 3, 4, 5, 6], ['kidney\\n(random)', \n",
    "                                'lung\\n(random)', \n",
    "                                'brain\\n(random)', \n",
    "                                'kidney', 'lung', 'brain'])\n",
    "plt.show()"
   ]
  },
  {
   "cell_type": "code",
   "execution_count": 18,
   "metadata": {},
   "outputs": [],
   "source": [
    "sns.set_theme(style=\"whitegrid\")"
   ]
  },
  {
   "cell_type": "code",
   "execution_count": 19,
   "metadata": {},
   "outputs": [
    {
     "data": {
      "image/png": "[encoded data removed]",
      "text/plain": [
       "<Figure size 432x288 with 1 Axes>"
      ]
     },
     "metadata": {},
     "output_type": "display_data"
    }
   ],
   "source": [
    "ax = sns.boxplot(data=df_con, y=\"Node strength\", x=\"Tissue\", hue= \"t\", showfliers=False, dodge=False, width=0.5)"
   ]
  },
  {
   "cell_type": "code",
   "execution_count": 20,
   "metadata": {},
   "outputs": [
    {
     "name": "stdout",
     "output_type": "stream",
     "text": [
      "109452.0\n",
      "7.89956956645722e-79\n"
     ]
    }
   ],
   "source": [
    "stat, p = mannwhitneyu(lung, brain)\n",
    "print(stat)\n",
    "print(p)"
   ]
  },
  {
   "cell_type": "code",
   "execution_count": 21,
   "metadata": {},
   "outputs": [
    {
     "name": "stdout",
     "output_type": "stream",
     "text": [
      "116688.5\n",
      "1.8179205091875527e-78\n"
     ]
    }
   ],
   "source": [
    "stat, p = mannwhitneyu(kidney, brain)\n",
    "print(stat)\n",
    "print(p)"
   ]
  },
  {
   "cell_type": "code",
   "execution_count": 22,
   "metadata": {},
   "outputs": [
    {
     "name": "stdout",
     "output_type": "stream",
     "text": [
      "1390445.0\n",
      "2.830319916133261e-88\n"
     ]
    }
   ],
   "source": [
    "stat, p = mannwhitneyu(lung, lung_r)\n",
    "print(stat)\n",
    "print(p)"
   ]
  },
  {
   "cell_type": "code",
   "execution_count": 23,
   "metadata": {},
   "outputs": [
    {
     "name": "stdout",
     "output_type": "stream",
     "text": [
      "1426697.0\n",
      "3.961091182523044e-96\n"
     ]
    }
   ],
   "source": [
    "stat, p = mannwhitneyu(kidney, kidney_r)\n",
    "print(stat)\n",
    "print(p)"
   ]
  },
  {
   "cell_type": "code",
   "execution_count": 24,
   "metadata": {},
   "outputs": [
    {
     "name": "stdout",
     "output_type": "stream",
     "text": [
      "26660583.5\n",
      "1.630021414942967e-05\n"
     ]
    }
   ],
   "source": [
    "stat, p = mannwhitneyu(lung_r, kidney_r)\n",
    "print(stat)\n",
    "print(p)"
   ]
  },
  {
   "cell_type": "code",
   "execution_count": 25,
   "metadata": {},
   "outputs": [
    {
     "name": "stdout",
     "output_type": "stream",
     "text": [
      "235901.5\n",
      "0.06125118366475865\n"
     ]
    }
   ],
   "source": [
    "stat, p = mannwhitneyu(kidney, lung)\n",
    "print(stat)\n",
    "print(p)"
   ]
  },
  {
   "cell_type": "code",
   "execution_count": null,
   "metadata": {},
   "outputs": [],
   "source": []
  },
  {
   "cell_type": "code",
   "execution_count": null,
   "metadata": {},
   "outputs": [],
   "source": []
  },
  {
   "cell_type": "code",
   "execution_count": null,
   "metadata": {},
   "outputs": [],
   "source": []
  }
 ],
 "metadata": {
  "kernelspec": {
   "display_name": "Python 3",
   "language": "python",
   "name": "python3"
  },
  "language_info": {
   "codemirror_mode": {
    "name": "ipython",
    "version": 3
   },
   "file_extension": ".py",
   "mimetype": "text/x-python",
   "name": "python",
   "nbconvert_exporter": "python",
   "pygments_lexer": "ipython3",
   "version": "3.8.5"
  }
 },
 "nbformat": 4,
 "nbformat_minor": 4
}
