{
 "cells": [
  {
   "cell_type": "code",
   "execution_count": 1,
   "metadata": {},
   "outputs": [],
   "source": [
    "import pandas as pd\n",
    "import seaborn as sns\n",
    "sns.set_theme(style=\"whitegrid\")"
   ]
  },
  {
   "cell_type": "code",
   "execution_count": 2,
   "metadata": {},
   "outputs": [
    {
     "name": "stdout",
     "output_type": "stream",
     "text": [
      "     type  tissue    cramer\n",
      "0  random   brain  0.754317\n",
      "1  random   brain  0.532185\n",
      "2  random   brain  0.683805\n",
      "3  random   brain  0.614744\n",
      "4  random   brain  0.621070\n",
      "0  random  kidney  0.666630\n",
      "1  random  kidney  0.784575\n",
      "2  random  kidney  0.829620\n",
      "3  random  kidney  0.752830\n",
      "4  random  kidney  0.805717\n",
      "0  random    lung  0.824355\n",
      "1  random    lung  0.758344\n",
      "2  random    lung  0.875494\n",
      "3  random    lung  0.816395\n",
      "4  random    lung  0.848483\n",
      "      type  tissue    cramer\n",
      "0   random   brain  0.754317\n",
      "1   random   brain  0.532185\n",
      "2   random   brain  0.683805\n",
      "3   random   brain  0.614744\n",
      "4   random   brain  0.621070\n",
      "5   random  kidney  0.666630\n",
      "6   random  kidney  0.784575\n",
      "7   random  kidney  0.829620\n",
      "8   random  kidney  0.752830\n",
      "9   random  kidney  0.805717\n",
      "10  random    lung  0.824355\n",
      "11  random    lung  0.758344\n",
      "12  random    lung  0.875494\n",
      "13  random    lung  0.816395\n",
      "14  random    lung  0.848483\n",
      "15    core   brain  0.671670\n",
      "16    core  kidney  0.494540\n",
      "17    core    lung  0.477470\n"
     ]
    }
   ],
   "source": [
    "brain_rand = [0.7543167476973268, 0.5321850037084872, 0.6838051582025372, 0.6147438562452383, 0.621070267493997]\n",
    "kidney_rand = [0.66663024984603, 0.7845745051431131, 0.8296199852765103, 0.7528298743383506, 0.8057174542841276]\n",
    "lung_rand = [0.8243550735597466, 0.7583436698891751, 0.8754936191066172, 0.816394627669747, 0.8484834815348589]\n",
    "\n",
    "df_b = pd.DataFrame({'type': 'random', 'tissue': 'brain', 'cramer': brain_rand})\n",
    "df_k = pd.DataFrame({'type': 'random', 'tissue': 'kidney', 'cramer': kidney_rand})\n",
    "df_l = pd.DataFrame({'type': 'random', 'tissue': 'lung', 'cramer': lung_rand})\n",
    "\n",
    "df = pd.concat([df_b, df_k, df_l])\n",
    "\n",
    "print(df)\n",
    "\n",
    "df = df.append({'type': 'core', 'tissue': 'brain', 'cramer': 0.67167}, ignore_index=True)\n",
    "df = df.append({'type': 'core', 'tissue': 'kidney', 'cramer': 0.49454}, ignore_index=True)\n",
    "df = df.append({'type': 'core', 'tissue': 'lung', 'cramer': 0.47747}, ignore_index=True)\n",
    "\n",
    "print(df)"
   ]
  },
  {
   "cell_type": "code",
   "execution_count": 3,
   "metadata": {},
   "outputs": [
    {
     "data": {
      "image/png": "[encoded data removed]",
      "text/plain": [
       "<Figure size 503.475x432 with 1 Axes>"
      ]
     },
     "metadata": {},
     "output_type": "display_data"
    }
   ],
   "source": [
    "g = sns.catplot(\n",
    "    data=df, kind=\"bar\",\n",
    "    x=\"type\", y=\"cramer\", hue=\"tissue\",\n",
    "    ci=\"sd\", palette=\"dark\", alpha=.6, height=6\n",
    ")\n",
    "g.despine(left=True)\n",
    "g.set_axis_labels(\"\", \"Cramér's V\")\n",
    "g.legend.set_title(\"\")"
   ]
  },
  {
   "cell_type": "code",
   "execution_count": null,
   "metadata": {},
   "outputs": [],
   "source": []
  }
 ],
 "metadata": {
  "kernelspec": {
   "display_name": "Python 3",
   "language": "python",
   "name": "python3"
  },
  "language_info": {
   "codemirror_mode": {
    "name": "ipython",
    "version": 3
   },
   "file_extension": ".py",
   "mimetype": "text/x-python",
   "name": "python",
   "nbconvert_exporter": "python",
   "pygments_lexer": "ipython3",
   "version": "3.8.5"
  }
 },
 "nbformat": 4,
 "nbformat_minor": 4
}
