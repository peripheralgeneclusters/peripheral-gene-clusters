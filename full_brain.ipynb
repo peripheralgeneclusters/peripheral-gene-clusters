{
 "cells": [
  {
   "cell_type": "markdown",
   "id": "labeled-sullivan",
   "metadata": {},
   "source": [
    "In this notebook we do clustering on the FULL version of gene network, and save the clusters for further analysis.  Can be used for other tissues in the same way."
   ]
  },
  {
   "cell_type": "code",
   "execution_count": 4,
   "id": "confused-interval",
   "metadata": {},
   "outputs": [],
   "source": [
    "import networkx as nx\n",
    "import pandas as pd\n",
    "import numpy as np\n",
    "import community"
   ]
  },
  {
   "cell_type": "markdown",
   "id": "framed-prairie",
   "metadata": {},
   "source": [
    "    The input file has to describe an undirected, weighted graph. \n",
    "    It contains info about the edges, has to be in the following format: \n",
    "        3 columns, first two are node IDs, the third one is the weight.\n",
    "        Node IDs should be Entrez IDs of genes, weights are floats \n",
    "        (functional interaction between genes).\n",
    "        \n",
    "    Example rows:\n",
    "        \n",
    "    Gene1 Gene2 Weight\n",
    "    9976  9987  0.134438\n",
    "    998   9986  0.158842\n",
    "    \n",
    "    Network used in this Notebook: GIANT Network (Troanskaya Labs - Princeton / Flatiron):\n",
    "    https://hb.flatironinstitute.org/download\n",
    "    Top Edges version"
   ]
  },
  {
   "cell_type": "code",
   "execution_count": null,
   "id": "chief-affiliation",
   "metadata": {},
   "outputs": [],
   "source": [
    "# Read GIANT Network for brain tissue - Top Edges\n",
    "df_giant = pd.read_csv(\"Data/brain_top\", sep='\\t', names = [\"g1\", \"g2\", \"w\"])"
   ]
  },
  {
   "cell_type": "code",
   "execution_count": null,
   "id": "hidden-orientation",
   "metadata": {},
   "outputs": [],
   "source": [
    "# build networkx graph\n",
    "G = nx.Graph()\n",
    "for row in df_giant.itertuples():\n",
    "    G.add_edge(row[1], row[2], weight=row[3])"
   ]
  },
  {
   "cell_type": "code",
   "execution_count": null,
   "id": "dietary-judge",
   "metadata": {},
   "outputs": [],
   "source": [
    "# quick look at the graph\n",
    "print(nx.is_connected(G))\n",
    "print(len(G.edges()))\n",
    "print(len(G.nodes()))"
   ]
  },
  {
   "cell_type": "code",
   "execution_count": null,
   "id": "needed-currency",
   "metadata": {},
   "outputs": [],
   "source": [
    "# Louvain community detection - https://python-louvain.readthedocs.io/en/latest/\n",
    "partition = community.best_partition(G)"
   ]
  },
  {
   "cell_type": "code",
   "execution_count": null,
   "id": "educational-particular",
   "metadata": {},
   "outputs": [],
   "source": [
    "for com in set(partition.values()) :\n",
    "    list_nodes = [nodes for nodes in partition.keys()\n",
    "                                if partition[nodes] == com]\n",
    "    \n",
    "    outstr = \"full_giant_louvain/giant-\" + str(com) + \".txt\"\n",
    "    \n",
    "    # uncomment to save gene list into file\n",
    "    # np.savetxt(outstr, list_nodes, \"%i\")\n",
    "    \n",
    "    # see the size of each partition\n",
    "    print(str(com) + \": \" + str(len(list_nodes)))\n",
    "\n"
   ]
  },
  {
   "cell_type": "code",
   "execution_count": null,
   "id": "functional-people",
   "metadata": {},
   "outputs": [],
   "source": []
  }
 ],
 "metadata": {
  "kernelspec": {
   "display_name": "Python 3",
   "language": "python",
   "name": "python3"
  },
  "language_info": {
   "codemirror_mode": {
    "name": "ipython",
    "version": 3
   },
   "file_extension": ".py",
   "mimetype": "text/x-python",
   "name": "python",
   "nbconvert_exporter": "python",
   "pygments_lexer": "ipython3",
   "version": "3.8.5"
  }
 },
 "nbformat": 4,
 "nbformat_minor": 5
}
