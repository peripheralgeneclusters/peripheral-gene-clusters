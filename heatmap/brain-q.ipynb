{
 "cells": [
  {
   "cell_type": "code",
   "execution_count": 1,
   "metadata": {},
   "outputs": [],
   "source": [
    "import pandas as pd\n",
    "import numpy as np\n",
    "from scipy import stats"
   ]
  },
  {
   "cell_type": "code",
   "execution_count": 2,
   "metadata": {},
   "outputs": [],
   "source": [
    "# entire raw enrichment result\n",
    "\n",
    "df00 = pd.read_csv(\"brain_gorilla/b-00.xls\", sep='\\t')\n",
    "df01 = pd.read_csv(\"brain_gorilla/b-01.xls\", sep='\\t')\n",
    "df11 = pd.read_csv(\"brain_gorilla/b-11.xls\", sep='\\t')\n",
    "df13 = pd.read_csv(\"brain_gorilla/b-13.xls\", sep='\\t')\n",
    "df20 = pd.read_csv(\"brain_gorilla/b-20.xls\", sep='\\t')\n",
    "df22 = pd.read_csv(\"brain_gorilla/b-22.xls\", sep='\\t')\n",
    "df31 = pd.read_csv(\"brain_gorilla/b-31.xls\", sep='\\t')\n",
    "df32 = pd.read_csv(\"brain_gorilla/b-32.xls\", sep='\\t')\n",
    "df33 = pd.read_csv(\"brain_gorilla/b-33.xls\", sep='\\t')\n",
    "\n",
    "df00 = df00[df00['FDR q-value']<0.05]\n",
    "df01 = df01[df01['FDR q-value']<0.05]\n",
    "df11 = df11[df11['FDR q-value']<0.05]\n",
    "df13 = df13[df13['FDR q-value']<0.05]\n",
    "df20 = df20[df20['FDR q-value']<0.05]\n",
    "df22 = df22[df22['FDR q-value']<0.05]\n",
    "df31 = df31[df31['FDR q-value']<0.05]\n",
    "df32 = df32[df32['FDR q-value']<0.05]\n",
    "df33 = df33[df33['FDR q-value']<0.05]"
   ]
  },
  {
   "cell_type": "code",
   "execution_count": 3,
   "metadata": {},
   "outputs": [
    {
     "name": "stdout",
     "output_type": "stream",
     "text": [
      "       GO Term                                        Description   P-value  \\\n",
      "0   GO:0051249                regulation of lymphocyte activation  0.000002   \n",
      "1   GO:0032944       regulation of mononuclear cell proliferation  0.000003   \n",
      "2   GO:0050670             regulation of lymphocyte proliferation  0.000003   \n",
      "3   GO:0070663              regulation of leukocyte proliferation  0.000004   \n",
      "4   GO:0002694                 regulation of leukocyte activation  0.000006   \n",
      "5   GO:1903037         regulation of leukocyte cell-cell adhesion  0.000007   \n",
      "6   GO:0050865                      regulation of cell activation  0.000008   \n",
      "7   GO:0050863                    regulation of T cell activation  0.000016   \n",
      "8   GO:0002695        negative regulation of leukocyte activation  0.000018   \n",
      "9   GO:0050866             negative regulation of cell activation  0.000027   \n",
      "10  GO:0042129                 regulation of T cell proliferation  0.000027   \n",
      "11  GO:0050727                regulation of inflammatory response  0.000031   \n",
      "12  GO:0022407                   regulation of cell-cell adhesion  0.000039   \n",
      "13  GO:0032945  negative regulation of mononuclear cell prolif...  0.000042   \n",
      "14  GO:0070664     negative regulation of leukocyte proliferation  0.000042   \n",
      "15  GO:0050672    negative regulation of lymphocyte proliferation  0.000042   \n",
      "16  GO:0042130        negative regulation of T cell proliferation  0.000042   \n",
      "17  GO:0030155                        regulation of cell adhesion  0.000059   \n",
      "18  GO:0002252                            immune effector process  0.000111   \n",
      "19  GO:0002376                              immune system process  0.000115   \n",
      "20  GO:0002684       positive regulation of immune system process  0.000133   \n",
      "21  GO:0050868           negative regulation of T cell activation  0.000143   \n",
      "22  GO:0051250       negative regulation of lymphocyte activation  0.000143   \n",
      "23  GO:1903038  negative regulation of leukocyte cell-cell adh...  0.000143   \n",
      "\n",
      "    FDR q-value  Enrichment    N   B   n  b  \\\n",
      "0       0.01310       12.63  739  27  13  6   \n",
      "1       0.00955       17.76  739  16  13  5   \n",
      "2       0.00637       17.76  739  16  13  5   \n",
      "3       0.00670       16.72  739  17  13  5   \n",
      "4       0.00769       10.66  739  32  13  6   \n",
      "5       0.00824       14.96  739  19  13  5   \n",
      "6       0.00802       10.03  739  34  13  6   \n",
      "7       0.01360       12.92  739  22  13  5   \n",
      "8       0.01350       20.67  739  11  13  4   \n",
      "9       0.01810       18.95  739  12  13  4   \n",
      "10      0.01640       18.95  739  12  13  4   \n",
      "11      0.01780       11.37  739  25  13  5   \n",
      "12      0.02020       10.93  739  26  13  5   \n",
      "13      0.02030       34.11  739   5  13  3   \n",
      "14      0.01900       34.11  739   5  13  3   \n",
      "15      0.01780       34.11  739   5  13  3   \n",
      "16      0.01680       34.11  739   5  13  3   \n",
      "17      0.02230        7.26  739  47  13  6   \n",
      "18      0.03990        8.88  739  32  13  5   \n",
      "19      0.03910        5.10  739  78  13  7   \n",
      "20      0.04330        6.32  739  54  13  6   \n",
      "21      0.04440       24.36  739   7  13  3   \n",
      "22      0.04250       24.36  739   7  13  3   \n",
      "23      0.04070       24.36  739   7  13  3   \n",
      "\n",
      "                                                Genes  \n",
      "0   [HLA-DRB1  -  major histocompatibility complex...  \n",
      "1   [HLA-DRB1  -  major histocompatibility complex...  \n",
      "2   [HLA-DRB1  -  major histocompatibility complex...  \n",
      "3   [HLA-DRB1  -  major histocompatibility complex...  \n",
      "4   [HLA-DRB1  -  major histocompatibility complex...  \n",
      "5   [HLA-DRB1  -  major histocompatibility complex...  \n",
      "6   [HLA-DRB1  -  major histocompatibility complex...  \n",
      "7   [HLA-DRB1  -  major histocompatibility complex...  \n",
      "8   [HLA-DRB1  -  major histocompatibility complex...  \n",
      "9   [HLA-DRB1  -  major histocompatibility complex...  \n",
      "10  [HLA-DRB1  -  major histocompatibility complex...  \n",
      "11  [HLA-DRB1  -  major histocompatibility complex...  \n",
      "12  [HLA-DRB1  -  major histocompatibility complex...  \n",
      "13  [HLA-DRB1  -  major histocompatibility complex...  \n",
      "14  [HLA-DRB1  -  major histocompatibility complex...  \n",
      "15  [HLA-DRB1  -  major histocompatibility complex...  \n",
      "16  [HLA-DRB1  -  major histocompatibility complex...  \n",
      "17  [HLA-DRB1  -  major histocompatibility complex...  \n",
      "18  [HLA-DRB1  -  major histocompatibility complex...  \n",
      "19  [HLA-DRB1  -  major histocompatibility complex...  \n",
      "20  [HLA-DRB1  -  major histocompatibility complex...  \n",
      "21  [HLA-DRB1  -  major histocompatibility complex...  \n",
      "22  [HLA-DRB1  -  major histocompatibility complex...  \n",
      "23  [HLA-DRB1  -  major histocompatibility complex...  \n"
     ]
    }
   ],
   "source": [
    "print(df00)"
   ]
  },
  {
   "cell_type": "code",
   "execution_count": 4,
   "metadata": {},
   "outputs": [
    {
     "name": "stdout",
     "output_type": "stream",
     "text": [
      "       GO Term                                        Description   P-value  \\\n",
      "0   GO:0051249                regulation of lymphocyte activation  0.000002   \n",
      "1   GO:0032944       regulation of mononuclear cell proliferation  0.000003   \n",
      "2   GO:0050670             regulation of lymphocyte proliferation  0.000003   \n",
      "3   GO:0070663              regulation of leukocyte proliferation  0.000004   \n",
      "4   GO:0002694                 regulation of leukocyte activation  0.000006   \n",
      "5   GO:1903037         regulation of leukocyte cell-cell adhesion  0.000007   \n",
      "6   GO:0050865                      regulation of cell activation  0.000008   \n",
      "7   GO:0050863                    regulation of T cell activation  0.000016   \n",
      "8   GO:0002695        negative regulation of leukocyte activation  0.000018   \n",
      "9   GO:0050866             negative regulation of cell activation  0.000027   \n",
      "10  GO:0042129                 regulation of T cell proliferation  0.000027   \n",
      "11  GO:0050727                regulation of inflammatory response  0.000031   \n",
      "12  GO:0022407                   regulation of cell-cell adhesion  0.000039   \n",
      "13  GO:0032945  negative regulation of mononuclear cell prolif...  0.000042   \n",
      "14  GO:0070664     negative regulation of leukocyte proliferation  0.000042   \n",
      "15  GO:0050672    negative regulation of lymphocyte proliferation  0.000042   \n",
      "16  GO:0042130        negative regulation of T cell proliferation  0.000042   \n",
      "17  GO:0030155                        regulation of cell adhesion  0.000059   \n",
      "18  GO:0002252                            immune effector process  0.000111   \n",
      "19  GO:0002376                              immune system process  0.000115   \n",
      "20  GO:0002684       positive regulation of immune system process  0.000133   \n",
      "21  GO:0050868           negative regulation of T cell activation  0.000143   \n",
      "22  GO:0051250       negative regulation of lymphocyte activation  0.000143   \n",
      "23  GO:1903038  negative regulation of leukocyte cell-cell adh...  0.000143   \n",
      "\n",
      "    FDR q-value  Enrichment    N   B   n  b  \\\n",
      "0       0.01310       12.63  739  27  13  6   \n",
      "1       0.00955       17.76  739  16  13  5   \n",
      "2       0.00637       17.76  739  16  13  5   \n",
      "3       0.00670       16.72  739  17  13  5   \n",
      "4       0.00769       10.66  739  32  13  6   \n",
      "5       0.00824       14.96  739  19  13  5   \n",
      "6       0.00802       10.03  739  34  13  6   \n",
      "7       0.01360       12.92  739  22  13  5   \n",
      "8       0.01350       20.67  739  11  13  4   \n",
      "9       0.01810       18.95  739  12  13  4   \n",
      "10      0.01640       18.95  739  12  13  4   \n",
      "11      0.01780       11.37  739  25  13  5   \n",
      "12      0.02020       10.93  739  26  13  5   \n",
      "13      0.02030       34.11  739   5  13  3   \n",
      "14      0.01900       34.11  739   5  13  3   \n",
      "15      0.01780       34.11  739   5  13  3   \n",
      "16      0.01680       34.11  739   5  13  3   \n",
      "17      0.02230        7.26  739  47  13  6   \n",
      "18      0.03990        8.88  739  32  13  5   \n",
      "19      0.03910        5.10  739  78  13  7   \n",
      "20      0.04330        6.32  739  54  13  6   \n",
      "21      0.04440       24.36  739   7  13  3   \n",
      "22      0.04250       24.36  739   7  13  3   \n",
      "23      0.04070       24.36  739   7  13  3   \n",
      "\n",
      "                                                Genes  \n",
      "0   [HLA-DRB1  -  major histocompatibility complex...  \n",
      "1   [HLA-DRB1  -  major histocompatibility complex...  \n",
      "2   [HLA-DRB1  -  major histocompatibility complex...  \n",
      "3   [HLA-DRB1  -  major histocompatibility complex...  \n",
      "4   [HLA-DRB1  -  major histocompatibility complex...  \n",
      "5   [HLA-DRB1  -  major histocompatibility complex...  \n",
      "6   [HLA-DRB1  -  major histocompatibility complex...  \n",
      "7   [HLA-DRB1  -  major histocompatibility complex...  \n",
      "8   [HLA-DRB1  -  major histocompatibility complex...  \n",
      "9   [HLA-DRB1  -  major histocompatibility complex...  \n",
      "10  [HLA-DRB1  -  major histocompatibility complex...  \n",
      "11  [HLA-DRB1  -  major histocompatibility complex...  \n",
      "12  [HLA-DRB1  -  major histocompatibility complex...  \n",
      "13  [HLA-DRB1  -  major histocompatibility complex...  \n",
      "14  [HLA-DRB1  -  major histocompatibility complex...  \n",
      "15  [HLA-DRB1  -  major histocompatibility complex...  \n",
      "16  [HLA-DRB1  -  major histocompatibility complex...  \n",
      "17  [HLA-DRB1  -  major histocompatibility complex...  \n",
      "18  [HLA-DRB1  -  major histocompatibility complex...  \n",
      "19  [HLA-DRB1  -  major histocompatibility complex...  \n",
      "20  [HLA-DRB1  -  major histocompatibility complex...  \n",
      "21  [HLA-DRB1  -  major histocompatibility complex...  \n",
      "22  [HLA-DRB1  -  major histocompatibility complex...  \n",
      "23  [HLA-DRB1  -  major histocompatibility complex...  \n"
     ]
    }
   ],
   "source": [
    "print(df00[df00['FDR q-value']<0.05])"
   ]
  },
  {
   "cell_type": "code",
   "execution_count": 5,
   "metadata": {},
   "outputs": [],
   "source": [
    "# gene list / gene description column\n",
    "\n",
    "gl00 = df00[\"Genes\"].tolist()\n",
    "gl01 = df01[\"Genes\"].tolist()\n",
    "gl11 = df11[\"Genes\"].tolist()\n",
    "gl13 = df13[\"Genes\"].tolist()\n",
    "gl20 = df20[\"Genes\"].tolist()\n",
    "gl22 = df22[\"Genes\"].tolist()\n",
    "gl31 = df31[\"Genes\"].tolist()\n",
    "gl32 = df32[\"Genes\"].tolist()\n",
    "gl33 = df33[\"Genes\"].tolist()"
   ]
  },
  {
   "cell_type": "code",
   "execution_count": 6,
   "metadata": {},
   "outputs": [
    {
     "name": "stdout",
     "output_type": "stream",
     "text": [
      "       GO Term                                        Description   P-value  \\\n",
      "0   GO:0051249                regulation of lymphocyte activation  0.000002   \n",
      "1   GO:0032944       regulation of mononuclear cell proliferation  0.000003   \n",
      "2   GO:0050670             regulation of lymphocyte proliferation  0.000003   \n",
      "3   GO:0070663              regulation of leukocyte proliferation  0.000004   \n",
      "4   GO:0002694                 regulation of leukocyte activation  0.000006   \n",
      "5   GO:1903037         regulation of leukocyte cell-cell adhesion  0.000007   \n",
      "6   GO:0050865                      regulation of cell activation  0.000008   \n",
      "7   GO:0050863                    regulation of T cell activation  0.000016   \n",
      "8   GO:0002695        negative regulation of leukocyte activation  0.000018   \n",
      "9   GO:0050866             negative regulation of cell activation  0.000027   \n",
      "10  GO:0042129                 regulation of T cell proliferation  0.000027   \n",
      "11  GO:0050727                regulation of inflammatory response  0.000031   \n",
      "12  GO:0022407                   regulation of cell-cell adhesion  0.000039   \n",
      "13  GO:0032945  negative regulation of mononuclear cell prolif...  0.000042   \n",
      "14  GO:0070664     negative regulation of leukocyte proliferation  0.000042   \n",
      "15  GO:0050672    negative regulation of lymphocyte proliferation  0.000042   \n",
      "16  GO:0042130        negative regulation of T cell proliferation  0.000042   \n",
      "17  GO:0030155                        regulation of cell adhesion  0.000059   \n",
      "18  GO:0002252                            immune effector process  0.000111   \n",
      "19  GO:0002376                              immune system process  0.000115   \n",
      "20  GO:0002684       positive regulation of immune system process  0.000133   \n",
      "21  GO:0050868           negative regulation of T cell activation  0.000143   \n",
      "22  GO:0051250       negative regulation of lymphocyte activation  0.000143   \n",
      "23  GO:1903038  negative regulation of leukocyte cell-cell adh...  0.000143   \n",
      "\n",
      "    FDR q-value  Enrichment    N   B   n  b  \\\n",
      "0       0.01310       12.63  739  27  13  6   \n",
      "1       0.00955       17.76  739  16  13  5   \n",
      "2       0.00637       17.76  739  16  13  5   \n",
      "3       0.00670       16.72  739  17  13  5   \n",
      "4       0.00769       10.66  739  32  13  6   \n",
      "5       0.00824       14.96  739  19  13  5   \n",
      "6       0.00802       10.03  739  34  13  6   \n",
      "7       0.01360       12.92  739  22  13  5   \n",
      "8       0.01350       20.67  739  11  13  4   \n",
      "9       0.01810       18.95  739  12  13  4   \n",
      "10      0.01640       18.95  739  12  13  4   \n",
      "11      0.01780       11.37  739  25  13  5   \n",
      "12      0.02020       10.93  739  26  13  5   \n",
      "13      0.02030       34.11  739   5  13  3   \n",
      "14      0.01900       34.11  739   5  13  3   \n",
      "15      0.01780       34.11  739   5  13  3   \n",
      "16      0.01680       34.11  739   5  13  3   \n",
      "17      0.02230        7.26  739  47  13  6   \n",
      "18      0.03990        8.88  739  32  13  5   \n",
      "19      0.03910        5.10  739  78  13  7   \n",
      "20      0.04330        6.32  739  54  13  6   \n",
      "21      0.04440       24.36  739   7  13  3   \n",
      "22      0.04250       24.36  739   7  13  3   \n",
      "23      0.04070       24.36  739   7  13  3   \n",
      "\n",
      "                                                Genes  \n",
      "0   [HLA-DRB1  -  major histocompatibility complex...  \n",
      "1   [HLA-DRB1  -  major histocompatibility complex...  \n",
      "2   [HLA-DRB1  -  major histocompatibility complex...  \n",
      "3   [HLA-DRB1  -  major histocompatibility complex...  \n",
      "4   [HLA-DRB1  -  major histocompatibility complex...  \n",
      "5   [HLA-DRB1  -  major histocompatibility complex...  \n",
      "6   [HLA-DRB1  -  major histocompatibility complex...  \n",
      "7   [HLA-DRB1  -  major histocompatibility complex...  \n",
      "8   [HLA-DRB1  -  major histocompatibility complex...  \n",
      "9   [HLA-DRB1  -  major histocompatibility complex...  \n",
      "10  [HLA-DRB1  -  major histocompatibility complex...  \n",
      "11  [HLA-DRB1  -  major histocompatibility complex...  \n",
      "12  [HLA-DRB1  -  major histocompatibility complex...  \n",
      "13  [HLA-DRB1  -  major histocompatibility complex...  \n",
      "14  [HLA-DRB1  -  major histocompatibility complex...  \n",
      "15  [HLA-DRB1  -  major histocompatibility complex...  \n",
      "16  [HLA-DRB1  -  major histocompatibility complex...  \n",
      "17  [HLA-DRB1  -  major histocompatibility complex...  \n",
      "18  [HLA-DRB1  -  major histocompatibility complex...  \n",
      "19  [HLA-DRB1  -  major histocompatibility complex...  \n",
      "20  [HLA-DRB1  -  major histocompatibility complex...  \n",
      "21  [HLA-DRB1  -  major histocompatibility complex...  \n",
      "22  [HLA-DRB1  -  major histocompatibility complex...  \n",
      "23  [HLA-DRB1  -  major histocompatibility complex...  \n"
     ]
    }
   ],
   "source": [
    "print(df00)"
   ]
  },
  {
   "cell_type": "code",
   "execution_count": 7,
   "metadata": {},
   "outputs": [],
   "source": [
    "df_list = [df00, df01, df11, df13, df20, df22, df31, df32, df33]\n",
    "\n",
    "gene_list = [gl00, gl01, gl11, gl13, gl20, gl22, gl31, gl32, gl33]"
   ]
  },
  {
   "cell_type": "code",
   "execution_count": 8,
   "metadata": {},
   "outputs": [
    {
     "name": "stdout",
     "output_type": "stream",
     "text": [
      "8\n",
      "0\n",
      "12\n",
      "170\n",
      "36\n",
      "159\n",
      "6\n",
      "0\n",
      "0\n"
     ]
    }
   ],
   "source": [
    "# number of genes in the enrichment GO terms\n",
    "\n",
    "# iterate throuch each cell in the contingency table \n",
    "for enriched_cell in gene_list:\n",
    "    \n",
    "    # list to store extracted genes that belong to enriched GO terms\n",
    "    enriched_genes = []\n",
    "    \n",
    "    # in a cell, iterate through enriched GO terms\n",
    "    for go_term in enriched_cell:\n",
    "        \n",
    "        # need to remove confusing enclosing brackets from string \n",
    "        unparsed_string = go_term[1:-1]\n",
    "        \n",
    "        # then transform it into a list of unparsed gene + description strings\n",
    "        unprocessed_list = unparsed_string.split('  -  ')\n",
    "        \n",
    "        # the first one can be added right away\n",
    "        enriched_genes.append(unprocessed_list[0])\n",
    "        \n",
    "        # iterate through the list. last element ignored (it only contains a description)\n",
    "        for gene_description in unprocessed_list[1:-1]:\n",
    "            \n",
    "            # the last word of the description contains a gene id (that belongs to the next description..)\n",
    "            gene_id = gene_description.rsplit(' ', 1)[-1]\n",
    "            enriched_genes.append(gene_id)\n",
    "    \n",
    "    print(len(set(enriched_genes)))\n",
    "            \n",
    "            "
   ]
  },
  {
   "cell_type": "code",
   "execution_count": null,
   "metadata": {},
   "outputs": [],
   "source": [
    "# geometric average of p-values in GO terms enriched\n",
    "\n",
    "# iterate throuch each cell in the contingency table \n",
    "for enriched_cell in df_list:\n",
    "    print(np.round(stats.gmean(enriched_cell[\"FDR q-value\"].tolist()), 8))"
   ]
  },
  {
   "cell_type": "code",
   "execution_count": null,
   "metadata": {},
   "outputs": [],
   "source": [
    "for enriched_cell in df_list:\n",
    "    print(np.round(np.mean(enriched_cell[\"FDR q-value\"].tolist()), 8))"
   ]
  },
  {
   "cell_type": "code",
   "execution_count": null,
   "metadata": {},
   "outputs": [],
   "source": [
    "# for enriched_cell in df_list:\n",
    "#    print(np.round(np.max(enriched_cell[\"FDR q-value\"].tolist()), 8))"
   ]
  },
  {
   "cell_type": "code",
   "execution_count": 13,
   "metadata": {},
   "outputs": [
    {
     "name": "stdout",
     "output_type": "stream",
     "text": [
      "0.0178\n",
      "nan\n",
      "0.00372\n",
      "0.00244\n",
      "0.00772\n",
      "0.000664\n",
      "0.00324\n",
      "nan\n",
      "nan\n"
     ]
    }
   ],
   "source": [
    "for enriched_cell in df_list:\n",
    "    print(np.round(np.median(enriched_cell[\"FDR q-value\"].tolist()), 8))"
   ]
  },
  {
   "cell_type": "code",
   "execution_count": 16,
   "metadata": {},
   "outputs": [
    {
     "name": "stdout",
     "output_type": "stream",
     "text": [
      "1.74958\n",
      "nan\n",
      "2.42945706\n",
      "2.61261017\n",
      "2.1123827\n",
      "3.17783192\n",
      "2.48945499\n",
      "nan\n",
      "nan\n"
     ]
    }
   ],
   "source": [
    "for enriched_cell in df_list:\n",
    "    print(np.round(-1 * np.log10(np.median(enriched_cell[\"FDR q-value\"].tolist())), 8))"
   ]
  },
  {
   "cell_type": "code",
   "execution_count": null,
   "metadata": {},
   "outputs": [],
   "source": [
    "for enriched_cell in df_list:\n",
    "    print(np.round(np.min(enriched_cell[\"FDR q-value\"].tolist()), 8))"
   ]
  },
  {
   "cell_type": "code",
   "execution_count": 17,
   "metadata": {},
   "outputs": [
    {
     "name": "stdout",
     "output_type": "stream",
     "text": [
      "24\n",
      "0\n",
      "13\n",
      "111\n",
      "5\n",
      "133\n",
      "3\n",
      "0\n",
      "0\n"
     ]
    }
   ],
   "source": [
    "for enriched_cell in df_list:\n",
    "    print(len(enriched_cell))"
   ]
  },
  {
   "cell_type": "code",
   "execution_count": null,
   "metadata": {},
   "outputs": [],
   "source": []
  }
 ],
 "metadata": {
  "kernelspec": {
   "display_name": "Python 3",
   "language": "python",
   "name": "python3"
  },
  "language_info": {
   "codemirror_mode": {
    "name": "ipython",
    "version": 3
   },
   "file_extension": ".py",
   "mimetype": "text/x-python",
   "name": "python",
   "nbconvert_exporter": "python",
   "pygments_lexer": "ipython3",
   "version": "3.8.5"
  }
 },
 "nbformat": 4,
 "nbformat_minor": 4
}
