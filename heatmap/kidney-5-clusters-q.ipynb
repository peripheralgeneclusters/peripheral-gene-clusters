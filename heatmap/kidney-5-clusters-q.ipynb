{
 "cells": [
  {
   "cell_type": "code",
   "execution_count": 1,
   "metadata": {},
   "outputs": [],
   "source": [
    "import pandas as pd\n",
    "import numpy as np\n",
    "from scipy import stats"
   ]
  },
  {
   "cell_type": "code",
   "execution_count": 2,
   "metadata": {},
   "outputs": [
    {
     "name": "stdout",
     "output_type": "stream",
     "text": [
      "(177, 3)\n",
      "(97, 3)\n",
      "(79, 3)\n",
      "(111, 3)\n",
      "(256, 3)\n"
     ]
    }
   ],
   "source": [
    "# this is just to double check the amount of genes \n",
    "\n",
    "d0 = pd.read_csv(\"kidney_gorilla/0.csv\", sep='\\t')\n",
    "d1 = pd.read_csv(\"kidney_gorilla/1.csv\", sep='\\t')\n",
    "d2 = pd.read_csv(\"kidney_gorilla/2.csv\", sep='\\t')\n",
    "d3 = pd.read_csv(\"kidney_gorilla/3.csv\", sep='\\t')\n",
    "d4 = pd.read_csv(\"kidney_gorilla/4.csv\", sep='\\t')\n",
    "\n",
    "print(d0.shape)\n",
    "print(d1.shape)\n",
    "print(d2.shape)\n",
    "print(d3.shape)\n",
    "print(d4.shape)"
   ]
  },
  {
   "cell_type": "code",
   "execution_count": 3,
   "metadata": {},
   "outputs": [
    {
     "name": "stdout",
     "output_type": "stream",
     "text": [
      "      symbol  score    entrez\n",
      "0      CASZ1    3.0   54897.0\n",
      "1    COL28A1    4.0  340267.0\n",
      "2       ICA1    3.0    3382.0\n",
      "3    KATNAL2    1.0   83473.0\n",
      "4      KIF5C    4.0    3800.0\n",
      "..       ...    ...       ...\n",
      "172    UBE2H    4.0    7328.0\n",
      "173     WWOX    3.0   51741.0\n",
      "174      VDR    4.0    7421.0\n",
      "175   ZBTB20    3.0   26137.0\n",
      "176   ZNF827    4.0  152485.0\n",
      "\n",
      "[177 rows x 3 columns]\n"
     ]
    }
   ],
   "source": [
    "print(d0)"
   ]
  },
  {
   "cell_type": "code",
   "execution_count": 4,
   "metadata": {},
   "outputs": [],
   "source": [
    "# entire raw enrichment result\n",
    "\n",
    "df0 = pd.read_csv(\"kidney_gorilla/0.xls\", sep='\\t')\n",
    "df1 = pd.read_csv(\"kidney_gorilla/1.xls\", sep='\\t')\n",
    "df2 = pd.read_csv(\"kidney_gorilla/2.xls\", sep='\\t')\n",
    "df3 = pd.read_csv(\"kidney_gorilla/3.xls\", sep='\\t')\n",
    "df4 = pd.read_csv(\"kidney_gorilla/4.xls\", sep='\\t')"
   ]
  },
  {
   "cell_type": "code",
   "execution_count": 5,
   "metadata": {},
   "outputs": [],
   "source": [
    "df0 = df0[df0['FDR q-value']<0.05]\n",
    "df1 = df1[df1['FDR q-value']<0.05]\n",
    "df2 = df2[df2['FDR q-value']<0.05]\n",
    "df3 = df3[df3['FDR q-value']<0.05]\n",
    "df4 = df4[df4['FDR q-value']<0.05]"
   ]
  },
  {
   "cell_type": "code",
   "execution_count": 6,
   "metadata": {},
   "outputs": [
    {
     "name": "stdout",
     "output_type": "stream",
     "text": [
      "      GO Term                                   Description       P-value  \\\n",
      "0  GO:0044237                    cellular metabolic process  5.440000e-07   \n",
      "1  GO:0008152                             metabolic process  3.310000e-06   \n",
      "2  GO:0034641  cellular nitrogen compound metabolic process  4.020000e-06   \n",
      "\n",
      "   FDR q-value  Enrichment    N    B   n   b  \\\n",
      "0      0.00360        1.57  714  328  79  57   \n",
      "1      0.01090        1.51  714  342  79  57   \n",
      "2      0.00885        2.07  714  140  79  32   \n",
      "\n",
      "                                               Genes  \n",
      "0  [DYDC2  -  dpy30 domain containing 2, KRR1  - ...  \n",
      "1  [DYDC2  -  dpy30 domain containing 2, KRR1  - ...  \n",
      "2  [KRR1  -  krr1, small subunit (ssu) processome...  \n"
     ]
    }
   ],
   "source": [
    "print(df2)"
   ]
  },
  {
   "cell_type": "code",
   "execution_count": 7,
   "metadata": {},
   "outputs": [],
   "source": [
    "# gene list / gene description column\n",
    "\n",
    "gl0 = df0[\"Genes\"].tolist()\n",
    "gl1 = df1[\"Genes\"].tolist()\n",
    "gl2 = df2[\"Genes\"].tolist()\n",
    "gl3 = df3[\"Genes\"].tolist()\n",
    "gl4 = df4[\"Genes\"].tolist()"
   ]
  },
  {
   "cell_type": "code",
   "execution_count": 8,
   "metadata": {},
   "outputs": [
    {
     "name": "stdout",
     "output_type": "stream",
     "text": [
      "['[DYDC2  -  dpy30 domain containing 2, KRR1  -  krr1, small subunit (ssu) processome component, homolog (yeast), NUP133  -  nucleoporin 133kda, BRCA2  -  breast cancer 2, early onset, HMGN1  -  high mobility group nucleosome binding domain 1, ATP1A1  -  atpase, na+/k+ transporting, alpha 1 polypeptide, NFE2L3  -  nuclear factor (erythroid-derived 2)-like 3, MTOR  -  mechanistic target of rapamycin (serine/threonine kinase), SMC3  -  structural maintenance of chromosomes 3, NDUFA5  -  nadh dehydrogenase (ubiquinone) 1 alpha subcomplex, 5, FABP5  -  fatty acid binding protein 5 (psoriasis-associated), SET  -  set nuclear oncogene, BST1  -  bone marrow stromal cell antigen 1, STK39  -  serine threonine kinase 39, NAA15  -  n(alpha)-acetyltransferase 15, nata auxiliary subunit, GPD2  -  glycerol-3-phosphate dehydrogenase 2 (mitochondrial), SNX5  -  sorting nexin 5, PHB  -  prohibitin, CPT2  -  carnitine palmitoyltransferase 2, POT1  -  protection of telomeres 1, IQGAP3  -  iq motif containing gtpase activating protein 3, PEX7  -  peroxisomal biogenesis factor 7, EIF4E  -  eukaryotic translation initiation factor 4e, RAB2A  -  rab2a, member ras oncogene family, PPP2R1B  -  protein phosphatase 2, regulatory subunit a, beta, MCM4  -  minichromosome maintenance complex component 4, SAE1  -  sumo1 activating enzyme subunit 1, MCM6  -  minichromosome maintenance complex component 6, IMMP2L  -  imp2 inner mitochondrial membrane peptidase-like (s. cerevisiae), APH1A  -  aph1a gamma secretase subunit, SOD1  -  superoxide dismutase 1, soluble, SYNCRIP  -  synaptotagmin binding, cytoplasmic rna interacting protein, ELP4  -  elongator acetyltransferase complex subunit 4, UPF3B  -  upf3 regulator of nonsense transcripts homolog b (yeast), TMLHE  -  trimethyllysine hydroxylase, epsilon, KIF14  -  kinesin family member 14, SLC25A39  -  solute carrier family 25, member 39, GLO1  -  glyoxalase i, HNRNPU  -  heterogeneous nuclear ribonucleoprotein u (scaffold attachment factor a), SSRP1  -  structure specific recognition protein 1, USP45  -  ubiquitin specific peptidase 45, SCP2  -  sterol carrier protein 2, CEP41  -  centrosomal protein 41kda, GPHN  -  gephyrin, ETFB  -  electron-transfer-flavoprotein, beta polypeptide, DENR  -  density-regulated protein, CTCF  -  ccctc-binding factor (zinc finger protein), POLA2  -  polymerase (dna directed), alpha 2, accessory subunit, UBE3C  -  ubiquitin protein ligase e3c, ADK  -  adenosine kinase, PRKDC  -  protein kinase, dna-activated, catalytic polypeptide, LEO1  -  leo1, paf1/rna polymerase ii complex component, homolog (s. cerevisiae), PTPN11  -  protein tyrosine phosphatase, non-receptor type 11, KIAA1586  -  kiaa1586, SLC25A12  -  solute carrier family 25 (aspartate/glutamate carrier), member 12, YWHAE  -  tyrosine 3-monooxygenase/tryptophan 5-monooxygenase activation protein, epsilon polypeptide, YEATS2  -  yeats domain containing 2]', '[DYDC2  -  dpy30 domain containing 2, KRR1  -  krr1, small subunit (ssu) processome component, homolog (yeast), NUP133  -  nucleoporin 133kda, BRCA2  -  breast cancer 2, early onset, HMGN1  -  high mobility group nucleosome binding domain 1, ATP1A1  -  atpase, na+/k+ transporting, alpha 1 polypeptide, NFE2L3  -  nuclear factor (erythroid-derived 2)-like 3, MTOR  -  mechanistic target of rapamycin (serine/threonine kinase), SMC3  -  structural maintenance of chromosomes 3, NDUFA5  -  nadh dehydrogenase (ubiquinone) 1 alpha subcomplex, 5, FABP5  -  fatty acid binding protein 5 (psoriasis-associated), SET  -  set nuclear oncogene, BST1  -  bone marrow stromal cell antigen 1, STK39  -  serine threonine kinase 39, NAA15  -  n(alpha)-acetyltransferase 15, nata auxiliary subunit, GPD2  -  glycerol-3-phosphate dehydrogenase 2 (mitochondrial), SNX5  -  sorting nexin 5, PHB  -  prohibitin, CPT2  -  carnitine palmitoyltransferase 2, POT1  -  protection of telomeres 1, IQGAP3  -  iq motif containing gtpase activating protein 3, PEX7  -  peroxisomal biogenesis factor 7, EIF4E  -  eukaryotic translation initiation factor 4e, RAB2A  -  rab2a, member ras oncogene family, PPP2R1B  -  protein phosphatase 2, regulatory subunit a, beta, MCM4  -  minichromosome maintenance complex component 4, SAE1  -  sumo1 activating enzyme subunit 1, MCM6  -  minichromosome maintenance complex component 6, IMMP2L  -  imp2 inner mitochondrial membrane peptidase-like (s. cerevisiae), APH1A  -  aph1a gamma secretase subunit, SOD1  -  superoxide dismutase 1, soluble, SYNCRIP  -  synaptotagmin binding, cytoplasmic rna interacting protein, ELP4  -  elongator acetyltransferase complex subunit 4, UPF3B  -  upf3 regulator of nonsense transcripts homolog b (yeast), TMLHE  -  trimethyllysine hydroxylase, epsilon, KIF14  -  kinesin family member 14, SLC25A39  -  solute carrier family 25, member 39, GLO1  -  glyoxalase i, HNRNPU  -  heterogeneous nuclear ribonucleoprotein u (scaffold attachment factor a), SSRP1  -  structure specific recognition protein 1, USP45  -  ubiquitin specific peptidase 45, SCP2  -  sterol carrier protein 2, CEP41  -  centrosomal protein 41kda, GPHN  -  gephyrin, ETFB  -  electron-transfer-flavoprotein, beta polypeptide, DENR  -  density-regulated protein, CTCF  -  ccctc-binding factor (zinc finger protein), POLA2  -  polymerase (dna directed), alpha 2, accessory subunit, UBE3C  -  ubiquitin protein ligase e3c, ADK  -  adenosine kinase, PRKDC  -  protein kinase, dna-activated, catalytic polypeptide, LEO1  -  leo1, paf1/rna polymerase ii complex component, homolog (s. cerevisiae), PTPN11  -  protein tyrosine phosphatase, non-receptor type 11, KIAA1586  -  kiaa1586, SLC25A12  -  solute carrier family 25 (aspartate/glutamate carrier), member 12, YWHAE  -  tyrosine 3-monooxygenase/tryptophan 5-monooxygenase activation protein, epsilon polypeptide, YEATS2  -  yeats domain containing 2]', '[KRR1  -  krr1, small subunit (ssu) processome component, homolog (yeast), SLC25A39  -  solute carrier family 25, member 39, BRCA2  -  breast cancer 2, early onset, HMGN1  -  high mobility group nucleosome binding domain 1, NFE2L3  -  nuclear factor (erythroid-derived 2)-like 3, MTOR  -  mechanistic target of rapamycin (serine/threonine kinase), GLO1  -  glyoxalase i, SMC3  -  structural maintenance of chromosomes 3, HNRNPU  -  heterogeneous nuclear ribonucleoprotein u (scaffold attachment factor a), SET  -  set nuclear oncogene, SSRP1  -  structure specific recognition protein 1, BST1  -  bone marrow stromal cell antigen 1, USP45  -  ubiquitin specific peptidase 45, GPD2  -  glycerol-3-phosphate dehydrogenase 2 (mitochondrial), GPHN  -  gephyrin, CTCF  -  ccctc-binding factor (zinc finger protein), PHB  -  prohibitin, POLA2  -  polymerase (dna directed), alpha 2, accessory subunit, CPT2  -  carnitine palmitoyltransferase 2, POT1  -  protection of telomeres 1, ADK  -  adenosine kinase, PRKDC  -  protein kinase, dna-activated, catalytic polypeptide, LEO1  -  leo1, paf1/rna polymerase ii complex component, homolog (s. cerevisiae), MCM4  -  minichromosome maintenance complex component 4, MCM6  -  minichromosome maintenance complex component 6, IMMP2L  -  imp2 inner mitochondrial membrane peptidase-like (s. cerevisiae), APH1A  -  aph1a gamma secretase subunit, SOD1  -  superoxide dismutase 1, soluble, SYNCRIP  -  synaptotagmin binding, cytoplasmic rna interacting protein, ELP4  -  elongator acetyltransferase complex subunit 4, UPF3B  -  upf3 regulator of nonsense transcripts homolog b (yeast), TMLHE  -  trimethyllysine hydroxylase, epsilon]']\n"
     ]
    }
   ],
   "source": [
    "print(gl2)"
   ]
  },
  {
   "cell_type": "code",
   "execution_count": 9,
   "metadata": {},
   "outputs": [],
   "source": [
    "df_list = [df0, df1, df2, df3, df4]\n",
    "\n",
    "gene_list = [gl0, gl1, gl2, gl3, gl4]"
   ]
  },
  {
   "cell_type": "code",
   "execution_count": 10,
   "metadata": {},
   "outputs": [
    {
     "name": "stdout",
     "output_type": "stream",
     "text": [
      "109\n",
      "0\n",
      "57\n",
      "95\n",
      "160\n"
     ]
    }
   ],
   "source": [
    "# number of genes in the enrichment GO terms\n",
    "\n",
    "# iterate throuch each cell in the contingency table \n",
    "for enriched_cell in gene_list:\n",
    "    \n",
    "    # list to store extracted genes that belong to enriched GO terms\n",
    "    enriched_genes = []\n",
    "    \n",
    "    # in a cell, iterate through enriched GO terms\n",
    "    for go_term in enriched_cell:\n",
    "        \n",
    "        # need to remove confusing enclosing brackets from string \n",
    "        unparsed_string = go_term[1:-1]\n",
    "        \n",
    "        # then transform it into a list of unparsed gene + description strings\n",
    "        unprocessed_list = unparsed_string.split('  -  ')\n",
    "        \n",
    "        # the first one can be added right away\n",
    "        enriched_genes.append(unprocessed_list[0])\n",
    "        \n",
    "        # iterate through the list. last element ignored (it only contains a description)\n",
    "        for gene_description in unprocessed_list[1:-1]:\n",
    "            \n",
    "            # the last word of the description contains a gene id (that belongs to the next description..)\n",
    "            gene_id = gene_description.rsplit(' ', 1)[-1]\n",
    "            enriched_genes.append(gene_id)\n",
    "    \n",
    "    print(len(set(enriched_genes)))\n",
    "            \n",
    "            "
   ]
  },
  {
   "cell_type": "code",
   "execution_count": null,
   "metadata": {},
   "outputs": [],
   "source": [
    "# geometric average of p-values in GO terms enriched\n",
    "\n",
    "# iterate throuch each cell in the contingency table \n",
    "for enriched_cell in df_list:\n",
    "    print(np.round(np.mean(enriched_cell[\"FDR q-value\"].tolist()), 8))"
   ]
  },
  {
   "cell_type": "code",
   "execution_count": 13,
   "metadata": {},
   "outputs": [],
   "source": [
    "# geometric average of p-values in GO terms enriched\n",
    "\n",
    "# iterate throuch each cell in the contingency table \n",
    "# for enriched_cell in df_list:\n",
    "#    print(np.round(np.max(enriched_cell[\"FDR q-value\"].tolist()), 8))"
   ]
  },
  {
   "cell_type": "code",
   "execution_count": 15,
   "metadata": {},
   "outputs": [
    {
     "name": "stdout",
     "output_type": "stream",
     "text": [
      "1.53610701\n",
      "nan\n",
      "2.05305673\n",
      "2.1414628\n",
      "3.39469495\n"
     ]
    }
   ],
   "source": [
    "for enriched_cell in df_list:\n",
    "    print(np.round(-1 * np.log10(np.median(enriched_cell[\"FDR q-value\"].tolist())), 8))"
   ]
  },
  {
   "cell_type": "code",
   "execution_count": null,
   "metadata": {},
   "outputs": [],
   "source": [
    "for enriched_cell in df_list:\n",
    "    print(np.round(np.min(enriched_cell[\"FDR q-value\"].tolist()), 8))"
   ]
  },
  {
   "cell_type": "code",
   "execution_count": 16,
   "metadata": {},
   "outputs": [
    {
     "name": "stdout",
     "output_type": "stream",
     "text": [
      "21\n",
      "0\n",
      "3\n",
      "70\n",
      "29\n"
     ]
    }
   ],
   "source": [
    "for enriched_cell in df_list:\n",
    "    print(len(enriched_cell))"
   ]
  },
  {
   "cell_type": "code",
   "execution_count": null,
   "metadata": {},
   "outputs": [],
   "source": []
  }
 ],
 "metadata": {
  "kernelspec": {
   "display_name": "Python 3",
   "language": "python",
   "name": "python3"
  },
  "language_info": {
   "codemirror_mode": {
    "name": "ipython",
    "version": 3
   },
   "file_extension": ".py",
   "mimetype": "text/x-python",
   "name": "python",
   "nbconvert_exporter": "python",
   "pygments_lexer": "ipython3",
   "version": "3.8.5"
  }
 },
 "nbformat": 4,
 "nbformat_minor": 4
}
