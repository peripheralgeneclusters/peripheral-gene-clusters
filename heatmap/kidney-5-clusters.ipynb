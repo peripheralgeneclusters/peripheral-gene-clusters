{
 "cells": [
  {
   "cell_type": "code",
   "execution_count": 1,
   "metadata": {},
   "outputs": [],
   "source": [
    "import pandas as pd\n",
    "import numpy as np\n",
    "from scipy import stats"
   ]
  },
  {
   "cell_type": "code",
   "execution_count": 2,
   "metadata": {},
   "outputs": [
    {
     "name": "stdout",
     "output_type": "stream",
     "text": [
      "(177, 3)\n",
      "(97, 3)\n",
      "(79, 3)\n",
      "(111, 3)\n",
      "(256, 3)\n"
     ]
    }
   ],
   "source": [
    "# this is just to double check the amount of genes \n",
    "\n",
    "d0 = pd.read_csv(\"kidney_gorilla/0.csv\", sep='\\t')\n",
    "d1 = pd.read_csv(\"kidney_gorilla/1.csv\", sep='\\t')\n",
    "d2 = pd.read_csv(\"kidney_gorilla/2.csv\", sep='\\t')\n",
    "d3 = pd.read_csv(\"kidney_gorilla/3.csv\", sep='\\t')\n",
    "d4 = pd.read_csv(\"kidney_gorilla/4.csv\", sep='\\t')\n",
    "\n",
    "print(d0.shape)\n",
    "print(d1.shape)\n",
    "print(d2.shape)\n",
    "print(d3.shape)\n",
    "print(d4.shape)"
   ]
  },
  {
   "cell_type": "code",
   "execution_count": 3,
   "metadata": {},
   "outputs": [],
   "source": [
    "# entire raw enrichment result\n",
    "\n",
    "df0 = pd.read_csv(\"kidney_gorilla/0.xls\", sep='\\t')\n",
    "df1 = pd.read_csv(\"kidney_gorilla/1.xls\", sep='\\t')\n",
    "df2 = pd.read_csv(\"kidney_gorilla/2.xls\", sep='\\t')\n",
    "df3 = pd.read_csv(\"kidney_gorilla/3.xls\", sep='\\t')\n",
    "df4 = pd.read_csv(\"kidney_gorilla/4.xls\", sep='\\t')"
   ]
  },
  {
   "cell_type": "code",
   "execution_count": 4,
   "metadata": {},
   "outputs": [
    {
     "name": "stdout",
     "output_type": "stream",
     "text": [
      "       GO Term                                       Description  \\\n",
      "0   GO:0044237                        cellular metabolic process   \n",
      "1   GO:0008152                                 metabolic process   \n",
      "2   GO:0034641      cellular nitrogen compound metabolic process   \n",
      "3   GO:0071704               organic substance metabolic process   \n",
      "4   GO:0006807               nitrogen compound metabolic process   \n",
      "5   GO:0055114                       oxidation-reduction process   \n",
      "6   GO:0044238                         primary metabolic process   \n",
      "7   GO:0006259                             DNA metabolic process   \n",
      "8   GO:1903047                        mitotic cell cycle process   \n",
      "9   GO:0043487                       regulation of RNA stability   \n",
      "10  GO:0043488                      regulation of mRNA stability   \n",
      "11  GO:0044843                  cell cycle G1/S phase transition   \n",
      "12  GO:0000082             G1/S transition of mitotic cell cycle   \n",
      "13  GO:0022402                                cell cycle process   \n",
      "14  GO:0046483                     heterocycle metabolic process   \n",
      "15  GO:0006139  nucleobase-containing compound metabolic process   \n",
      "16  GO:0033365                 protein localization to organelle   \n",
      "17  GO:0006260                                   DNA replication   \n",
      "18  GO:0061013              regulation of mRNA catabolic process   \n",
      "19  GO:0034440                                   lipid oxidation   \n",
      "20  GO:0032200                             telomere organization   \n",
      "21  GO:0000723                              telomere maintenance   \n",
      "22  GO:0006635                         fatty acid beta-oxidation   \n",
      "23  GO:0019395                              fatty acid oxidation   \n",
      "24  GO:0015931          nucleobase-containing compound transport   \n",
      "25  GO:0044249                     cellular biosynthetic process   \n",
      "26  GO:0045184             establishment of protein localization   \n",
      "27  GO:0044772               mitotic cell cycle phase transition   \n",
      "\n",
      "         P-value  FDR q-value  Enrichment    N    B   n   b  \\\n",
      "0   5.440000e-07      0.00360        1.57  714  328  79  57   \n",
      "1   3.310000e-06      0.01090        1.51  714  342  79  57   \n",
      "2   4.020000e-06      0.00885        2.07  714  140  79  32   \n",
      "3   4.000000e-05      0.06610        1.47  714  326  79  53   \n",
      "4   8.700000e-05      0.11500        1.48  714  306  79  50   \n",
      "5   9.860000e-05      0.10900        4.52  714   16  79   8   \n",
      "6   1.080000e-04      0.10200        1.47  714  308  79  50   \n",
      "7   1.940000e-04      0.16000        2.87  714   41  79  13   \n",
      "8   2.260000e-04      0.16600        2.69  714   47  79  14   \n",
      "9   2.590000e-04      0.17100        6.46  714    7  79   5   \n",
      "10  2.590000e-04      0.15500        6.46  714    7  79   5   \n",
      "11  2.590000e-04      0.14200        6.46  714    7  79   5   \n",
      "12  2.590000e-04      0.13200        6.46  714    7  79   5   \n",
      "13  3.230000e-04      0.15200        2.33  714   66  79  17   \n",
      "14  3.490000e-04      0.15400        1.86  714  126  79  26   \n",
      "15  3.510000e-04      0.14500        1.90  714  119  79  25   \n",
      "16  5.220000e-04      0.20300        3.39  714   24  79   9   \n",
      "17  6.300000e-04      0.23100        5.65  714    8  79   5   \n",
      "18  6.300000e-04      0.21900        5.65  714    8  79   5   \n",
      "19  6.400000e-04      0.21200        7.23  714    5  79   4   \n",
      "20  6.400000e-04      0.20200        7.23  714    5  79   4   \n",
      "21  6.400000e-04      0.19200        7.23  714    5  79   4   \n",
      "22  6.400000e-04      0.18400        7.23  714    5  79   4   \n",
      "23  6.400000e-04      0.17600        7.23  714    5  79   4   \n",
      "24  8.190000e-04      0.21600        4.52  714   12  79   6   \n",
      "25  8.970000e-04      0.22800        1.99  714   91  79  20   \n",
      "26  9.070000e-04      0.22200        2.30  714   59  79  15   \n",
      "27  9.760000e-04      0.23000        3.44  714   21  79   8   \n",
      "\n",
      "                                                Genes  \n",
      "0   [DYDC2  -  dpy30 domain containing 2, KRR1  - ...  \n",
      "1   [DYDC2  -  dpy30 domain containing 2, KRR1  - ...  \n",
      "2   [KRR1  -  krr1, small subunit (ssu) processome...  \n",
      "3   [DYDC2  -  dpy30 domain containing 2, KRR1  - ...  \n",
      "4   [DYDC2  -  dpy30 domain containing 2, KRR1  - ...  \n",
      "5   [CPT2  -  carnitine palmitoyltransferase 2, PE...  \n",
      "6   [DYDC2  -  dpy30 domain containing 2, KRR1  - ...  \n",
      "7   [POT1  -  protection of telomeres 1, POLA2  - ...  \n",
      "8   [POLA2  -  polymerase (dna directed), alpha 2,...  \n",
      "9   [SET  -  set nuclear oncogene, HNRNPU  -  hete...  \n",
      "10  [HNRNPU  -  heterogeneous nuclear ribonucleopr...  \n",
      "11  [POLA2  -  polymerase (dna directed), alpha 2,...  \n",
      "12  [MCM4  -  minichromosome maintenance complex c...  \n",
      "13  [POLA2  -  polymerase (dna directed), alpha 2,...  \n",
      "14  [KRR1  -  krr1, small subunit (ssu) processome...  \n",
      "15  [KRR1  -  krr1, small subunit (ssu) processome...  \n",
      "16  [HNRNPU  -  heterogeneous nuclear ribonucleopr...  \n",
      "17  [POLA2  -  polymerase (dna directed), alpha 2,...  \n",
      "18  [HNRNPU  -  heterogeneous nuclear ribonucleopr...  \n",
      "19  [CPT2  -  carnitine palmitoyltransferase 2, PE...  \n",
      "20  [POT1  -  protection of telomeres 1, POLA2  - ...  \n",
      "21  [POT1  -  protection of telomeres 1, POLA2  - ...  \n",
      "22  [CPT2  -  carnitine palmitoyltransferase 2, PE...  \n",
      "23  [CPT2  -  carnitine palmitoyltransferase 2, PE...  \n",
      "24  [HNRNPU  -  heterogeneous nuclear ribonucleopr...  \n",
      "25  [POLA2  -  polymerase (dna directed), alpha 2,...  \n",
      "26  [POT1  -  protection of telomeres 1, PEX7  -  ...  \n",
      "27  [MCM4  -  minichromosome maintenance complex c...  \n"
     ]
    }
   ],
   "source": [
    "print(df2)"
   ]
  },
  {
   "cell_type": "code",
   "execution_count": 5,
   "metadata": {},
   "outputs": [],
   "source": [
    "# gene list / gene description column\n",
    "\n",
    "gl0 = df0[\"Genes\"].tolist()\n",
    "gl1 = df1[\"Genes\"].tolist()\n",
    "gl2 = df2[\"Genes\"].tolist()\n",
    "gl3 = df3[\"Genes\"].tolist()\n",
    "gl4 = df4[\"Genes\"].tolist()"
   ]
  },
  {
   "cell_type": "code",
   "execution_count": 6,
   "metadata": {},
   "outputs": [
    {
     "name": "stdout",
     "output_type": "stream",
     "text": [
      "['[DYDC2  -  dpy30 domain containing 2, KRR1  -  krr1, small subunit (ssu) processome component, homolog (yeast), NUP133  -  nucleoporin 133kda, BRCA2  -  breast cancer 2, early onset, HMGN1  -  high mobility group nucleosome binding domain 1, ATP1A1  -  atpase, na+/k+ transporting, alpha 1 polypeptide, NFE2L3  -  nuclear factor (erythroid-derived 2)-like 3, MTOR  -  mechanistic target of rapamycin (serine/threonine kinase), SMC3  -  structural maintenance of chromosomes 3, NDUFA5  -  nadh dehydrogenase (ubiquinone) 1 alpha subcomplex, 5, FABP5  -  fatty acid binding protein 5 (psoriasis-associated), SET  -  set nuclear oncogene, BST1  -  bone marrow stromal cell antigen 1, STK39  -  serine threonine kinase 39, NAA15  -  n(alpha)-acetyltransferase 15, nata auxiliary subunit, GPD2  -  glycerol-3-phosphate dehydrogenase 2 (mitochondrial), SNX5  -  sorting nexin 5, PHB  -  prohibitin, CPT2  -  carnitine palmitoyltransferase 2, POT1  -  protection of telomeres 1, IQGAP3  -  iq motif containing gtpase activating protein 3, PEX7  -  peroxisomal biogenesis factor 7, EIF4E  -  eukaryotic translation initiation factor 4e, RAB2A  -  rab2a, member ras oncogene family, PPP2R1B  -  protein phosphatase 2, regulatory subunit a, beta, MCM4  -  minichromosome maintenance complex component 4, SAE1  -  sumo1 activating enzyme subunit 1, MCM6  -  minichromosome maintenance complex component 6, IMMP2L  -  imp2 inner mitochondrial membrane peptidase-like (s. cerevisiae), APH1A  -  aph1a gamma secretase subunit, SOD1  -  superoxide dismutase 1, soluble, SYNCRIP  -  synaptotagmin binding, cytoplasmic rna interacting protein, ELP4  -  elongator acetyltransferase complex subunit 4, UPF3B  -  upf3 regulator of nonsense transcripts homolog b (yeast), TMLHE  -  trimethyllysine hydroxylase, epsilon, KIF14  -  kinesin family member 14, SLC25A39  -  solute carrier family 25, member 39, GLO1  -  glyoxalase i, HNRNPU  -  heterogeneous nuclear ribonucleoprotein u (scaffold attachment factor a), SSRP1  -  structure specific recognition protein 1, USP45  -  ubiquitin specific peptidase 45, SCP2  -  sterol carrier protein 2, CEP41  -  centrosomal protein 41kda, GPHN  -  gephyrin, ETFB  -  electron-transfer-flavoprotein, beta polypeptide, DENR  -  density-regulated protein, CTCF  -  ccctc-binding factor (zinc finger protein), POLA2  -  polymerase (dna directed), alpha 2, accessory subunit, UBE3C  -  ubiquitin protein ligase e3c, ADK  -  adenosine kinase, PRKDC  -  protein kinase, dna-activated, catalytic polypeptide, LEO1  -  leo1, paf1/rna polymerase ii complex component, homolog (s. cerevisiae), PTPN11  -  protein tyrosine phosphatase, non-receptor type 11, KIAA1586  -  kiaa1586, SLC25A12  -  solute carrier family 25 (aspartate/glutamate carrier), member 12, YWHAE  -  tyrosine 3-monooxygenase/tryptophan 5-monooxygenase activation protein, epsilon polypeptide, YEATS2  -  yeats domain containing 2]', '[DYDC2  -  dpy30 domain containing 2, KRR1  -  krr1, small subunit (ssu) processome component, homolog (yeast), NUP133  -  nucleoporin 133kda, BRCA2  -  breast cancer 2, early onset, HMGN1  -  high mobility group nucleosome binding domain 1, ATP1A1  -  atpase, na+/k+ transporting, alpha 1 polypeptide, NFE2L3  -  nuclear factor (erythroid-derived 2)-like 3, MTOR  -  mechanistic target of rapamycin (serine/threonine kinase), SMC3  -  structural maintenance of chromosomes 3, NDUFA5  -  nadh dehydrogenase (ubiquinone) 1 alpha subcomplex, 5, FABP5  -  fatty acid binding protein 5 (psoriasis-associated), SET  -  set nuclear oncogene, BST1  -  bone marrow stromal cell antigen 1, STK39  -  serine threonine kinase 39, NAA15  -  n(alpha)-acetyltransferase 15, nata auxiliary subunit, GPD2  -  glycerol-3-phosphate dehydrogenase 2 (mitochondrial), SNX5  -  sorting nexin 5, PHB  -  prohibitin, CPT2  -  carnitine palmitoyltransferase 2, POT1  -  protection of telomeres 1, IQGAP3  -  iq motif containing gtpase activating protein 3, PEX7  -  peroxisomal biogenesis factor 7, EIF4E  -  eukaryotic translation initiation factor 4e, RAB2A  -  rab2a, member ras oncogene family, PPP2R1B  -  protein phosphatase 2, regulatory subunit a, beta, MCM4  -  minichromosome maintenance complex component 4, SAE1  -  sumo1 activating enzyme subunit 1, MCM6  -  minichromosome maintenance complex component 6, IMMP2L  -  imp2 inner mitochondrial membrane peptidase-like (s. cerevisiae), APH1A  -  aph1a gamma secretase subunit, SOD1  -  superoxide dismutase 1, soluble, SYNCRIP  -  synaptotagmin binding, cytoplasmic rna interacting protein, ELP4  -  elongator acetyltransferase complex subunit 4, UPF3B  -  upf3 regulator of nonsense transcripts homolog b (yeast), TMLHE  -  trimethyllysine hydroxylase, epsilon, KIF14  -  kinesin family member 14, SLC25A39  -  solute carrier family 25, member 39, GLO1  -  glyoxalase i, HNRNPU  -  heterogeneous nuclear ribonucleoprotein u (scaffold attachment factor a), SSRP1  -  structure specific recognition protein 1, USP45  -  ubiquitin specific peptidase 45, SCP2  -  sterol carrier protein 2, CEP41  -  centrosomal protein 41kda, GPHN  -  gephyrin, ETFB  -  electron-transfer-flavoprotein, beta polypeptide, DENR  -  density-regulated protein, CTCF  -  ccctc-binding factor (zinc finger protein), POLA2  -  polymerase (dna directed), alpha 2, accessory subunit, UBE3C  -  ubiquitin protein ligase e3c, ADK  -  adenosine kinase, PRKDC  -  protein kinase, dna-activated, catalytic polypeptide, LEO1  -  leo1, paf1/rna polymerase ii complex component, homolog (s. cerevisiae), PTPN11  -  protein tyrosine phosphatase, non-receptor type 11, KIAA1586  -  kiaa1586, SLC25A12  -  solute carrier family 25 (aspartate/glutamate carrier), member 12, YWHAE  -  tyrosine 3-monooxygenase/tryptophan 5-monooxygenase activation protein, epsilon polypeptide, YEATS2  -  yeats domain containing 2]', '[KRR1  -  krr1, small subunit (ssu) processome component, homolog (yeast), SLC25A39  -  solute carrier family 25, member 39, BRCA2  -  breast cancer 2, early onset, HMGN1  -  high mobility group nucleosome binding domain 1, NFE2L3  -  nuclear factor (erythroid-derived 2)-like 3, MTOR  -  mechanistic target of rapamycin (serine/threonine kinase), GLO1  -  glyoxalase i, SMC3  -  structural maintenance of chromosomes 3, HNRNPU  -  heterogeneous nuclear ribonucleoprotein u (scaffold attachment factor a), SET  -  set nuclear oncogene, SSRP1  -  structure specific recognition protein 1, BST1  -  bone marrow stromal cell antigen 1, USP45  -  ubiquitin specific peptidase 45, GPD2  -  glycerol-3-phosphate dehydrogenase 2 (mitochondrial), GPHN  -  gephyrin, CTCF  -  ccctc-binding factor (zinc finger protein), PHB  -  prohibitin, POLA2  -  polymerase (dna directed), alpha 2, accessory subunit, CPT2  -  carnitine palmitoyltransferase 2, POT1  -  protection of telomeres 1, ADK  -  adenosine kinase, PRKDC  -  protein kinase, dna-activated, catalytic polypeptide, LEO1  -  leo1, paf1/rna polymerase ii complex component, homolog (s. cerevisiae), MCM4  -  minichromosome maintenance complex component 4, MCM6  -  minichromosome maintenance complex component 6, IMMP2L  -  imp2 inner mitochondrial membrane peptidase-like (s. cerevisiae), APH1A  -  aph1a gamma secretase subunit, SOD1  -  superoxide dismutase 1, soluble, SYNCRIP  -  synaptotagmin binding, cytoplasmic rna interacting protein, ELP4  -  elongator acetyltransferase complex subunit 4, UPF3B  -  upf3 regulator of nonsense transcripts homolog b (yeast), TMLHE  -  trimethyllysine hydroxylase, epsilon]', '[DYDC2  -  dpy30 domain containing 2, KRR1  -  krr1, small subunit (ssu) processome component, homolog (yeast), NUP133  -  nucleoporin 133kda, BRCA2  -  breast cancer 2, early onset, HMGN1  -  high mobility group nucleosome binding domain 1, NFE2L3  -  nuclear factor (erythroid-derived 2)-like 3, MTOR  -  mechanistic target of rapamycin (serine/threonine kinase), SMC3  -  structural maintenance of chromosomes 3, FABP5  -  fatty acid binding protein 5 (psoriasis-associated), SET  -  set nuclear oncogene, BST1  -  bone marrow stromal cell antigen 1, STK39  -  serine threonine kinase 39, NAA15  -  n(alpha)-acetyltransferase 15, nata auxiliary subunit, GPD2  -  glycerol-3-phosphate dehydrogenase 2 (mitochondrial), SNX5  -  sorting nexin 5, PHB  -  prohibitin, CPT2  -  carnitine palmitoyltransferase 2, POT1  -  protection of telomeres 1, IQGAP3  -  iq motif containing gtpase activating protein 3, PEX7  -  peroxisomal biogenesis factor 7, RAB2A  -  rab2a, member ras oncogene family, PPP2R1B  -  protein phosphatase 2, regulatory subunit a, beta, SAE1  -  sumo1 activating enzyme subunit 1, MCM4  -  minichromosome maintenance complex component 4, MCM6  -  minichromosome maintenance complex component 6, IMMP2L  -  imp2 inner mitochondrial membrane peptidase-like (s. cerevisiae), APH1A  -  aph1a gamma secretase subunit, SOD1  -  superoxide dismutase 1, soluble, SYNCRIP  -  synaptotagmin binding, cytoplasmic rna interacting protein, ELP4  -  elongator acetyltransferase complex subunit 4, UPF3B  -  upf3 regulator of nonsense transcripts homolog b (yeast), TMLHE  -  trimethyllysine hydroxylase, epsilon, KIF14  -  kinesin family member 14, SLC25A39  -  solute carrier family 25, member 39, GLO1  -  glyoxalase i, HNRNPU  -  heterogeneous nuclear ribonucleoprotein u (scaffold attachment factor a), SSRP1  -  structure specific recognition protein 1, USP45  -  ubiquitin specific peptidase 45, SCP2  -  sterol carrier protein 2, GPHN  -  gephyrin, ETFB  -  electron-transfer-flavoprotein, beta polypeptide, CEP41  -  centrosomal protein 41kda, CTCF  -  ccctc-binding factor (zinc finger protein), POLA2  -  polymerase (dna directed), alpha 2, accessory subunit, UBE3C  -  ubiquitin protein ligase e3c, ADK  -  adenosine kinase, PRKDC  -  protein kinase, dna-activated, catalytic polypeptide, LEO1  -  leo1, paf1/rna polymerase ii complex component, homolog (s. cerevisiae), PTPN11  -  protein tyrosine phosphatase, non-receptor type 11, KIAA1586  -  kiaa1586, SLC25A12  -  solute carrier family 25 (aspartate/glutamate carrier), member 12, YWHAE  -  tyrosine 3-monooxygenase/tryptophan 5-monooxygenase activation protein, epsilon polypeptide, YEATS2  -  yeats domain containing 2]', '[DYDC2  -  dpy30 domain containing 2, KRR1  -  krr1, small subunit (ssu) processome component, homolog (yeast), NUP133  -  nucleoporin 133kda, BRCA2  -  breast cancer 2, early onset, HMGN1  -  high mobility group nucleosome binding domain 1, NFE2L3  -  nuclear factor (erythroid-derived 2)-like 3, MTOR  -  mechanistic target of rapamycin (serine/threonine kinase), SMC3  -  structural maintenance of chromosomes 3, FABP5  -  fatty acid binding protein 5 (psoriasis-associated), SET  -  set nuclear oncogene, BST1  -  bone marrow stromal cell antigen 1, STK39  -  serine threonine kinase 39, NAA15  -  n(alpha)-acetyltransferase 15, nata auxiliary subunit, GPD2  -  glycerol-3-phosphate dehydrogenase 2 (mitochondrial), SNX5  -  sorting nexin 5, PHB  -  prohibitin, CPT2  -  carnitine palmitoyltransferase 2, POT1  -  protection of telomeres 1, IQGAP3  -  iq motif containing gtpase activating protein 3, RAB2A  -  rab2a, member ras oncogene family, PPP2R1B  -  protein phosphatase 2, regulatory subunit a, beta, SAE1  -  sumo1 activating enzyme subunit 1, MCM4  -  minichromosome maintenance complex component 4, MCM6  -  minichromosome maintenance complex component 6, IMMP2L  -  imp2 inner mitochondrial membrane peptidase-like (s. cerevisiae), APH1A  -  aph1a gamma secretase subunit, SOD1  -  superoxide dismutase 1, soluble, SYNCRIP  -  synaptotagmin binding, cytoplasmic rna interacting protein, ELP4  -  elongator acetyltransferase complex subunit 4, UPF3B  -  upf3 regulator of nonsense transcripts homolog b (yeast), TMLHE  -  trimethyllysine hydroxylase, epsilon, KIF14  -  kinesin family member 14, SLC25A39  -  solute carrier family 25, member 39, GLO1  -  glyoxalase i, HNRNPU  -  heterogeneous nuclear ribonucleoprotein u (scaffold attachment factor a), SSRP1  -  structure specific recognition protein 1, USP45  -  ubiquitin specific peptidase 45, GPHN  -  gephyrin, CEP41  -  centrosomal protein 41kda, CTCF  -  ccctc-binding factor (zinc finger protein), POLA2  -  polymerase (dna directed), alpha 2, accessory subunit, UBE3C  -  ubiquitin protein ligase e3c, ADK  -  adenosine kinase, PRKDC  -  protein kinase, dna-activated, catalytic polypeptide, LEO1  -  leo1, paf1/rna polymerase ii complex component, homolog (s. cerevisiae), PTPN11  -  protein tyrosine phosphatase, non-receptor type 11, KIAA1586  -  kiaa1586, SLC25A12  -  solute carrier family 25 (aspartate/glutamate carrier), member 12, YWHAE  -  tyrosine 3-monooxygenase/tryptophan 5-monooxygenase activation protein, epsilon polypeptide, YEATS2  -  yeats domain containing 2]', '[CPT2  -  carnitine palmitoyltransferase 2, PEX7  -  peroxisomal biogenesis factor 7, IMMP2L  -  imp2 inner mitochondrial membrane peptidase-like (s. cerevisiae), SCP2  -  sterol carrier protein 2, GPD2  -  glycerol-3-phosphate dehydrogenase 2 (mitochondrial), MTOR  -  mechanistic target of rapamycin (serine/threonine kinase), ETFB  -  electron-transfer-flavoprotein, beta polypeptide, NDUFA5  -  nadh dehydrogenase (ubiquinone) 1 alpha subcomplex, 5]', '[DYDC2  -  dpy30 domain containing 2, KRR1  -  krr1, small subunit (ssu) processome component, homolog (yeast), BRCA2  -  breast cancer 2, early onset, NUP133  -  nucleoporin 133kda, HMGN1  -  high mobility group nucleosome binding domain 1, NFE2L3  -  nuclear factor (erythroid-derived 2)-like 3, MTOR  -  mechanistic target of rapamycin (serine/threonine kinase), SMC3  -  structural maintenance of chromosomes 3, FABP5  -  fatty acid binding protein 5 (psoriasis-associated), SET  -  set nuclear oncogene, BST1  -  bone marrow stromal cell antigen 1, STK39  -  serine threonine kinase 39, NAA15  -  n(alpha)-acetyltransferase 15, nata auxiliary subunit, GPD2  -  glycerol-3-phosphate dehydrogenase 2 (mitochondrial), SNX5  -  sorting nexin 5, PHB  -  prohibitin, CPT2  -  carnitine palmitoyltransferase 2, POT1  -  protection of telomeres 1, IQGAP3  -  iq motif containing gtpase activating protein 3, PEX7  -  peroxisomal biogenesis factor 7, RAB2A  -  rab2a, member ras oncogene family, PPP2R1B  -  protein phosphatase 2, regulatory subunit a, beta, SAE1  -  sumo1 activating enzyme subunit 1, MCM4  -  minichromosome maintenance complex component 4, MCM6  -  minichromosome maintenance complex component 6, IMMP2L  -  imp2 inner mitochondrial membrane peptidase-like (s. cerevisiae), APH1A  -  aph1a gamma secretase subunit, SYNCRIP  -  synaptotagmin binding, cytoplasmic rna interacting protein, ELP4  -  elongator acetyltransferase complex subunit 4, UPF3B  -  upf3 regulator of nonsense transcripts homolog b (yeast), KIF14  -  kinesin family member 14, GLO1  -  glyoxalase i, HNRNPU  -  heterogeneous nuclear ribonucleoprotein u (scaffold attachment factor a), SSRP1  -  structure specific recognition protein 1, USP45  -  ubiquitin specific peptidase 45, SCP2  -  sterol carrier protein 2, ETFB  -  electron-transfer-flavoprotein, beta polypeptide, GPHN  -  gephyrin, CEP41  -  centrosomal protein 41kda, CTCF  -  ccctc-binding factor (zinc finger protein), POLA2  -  polymerase (dna directed), alpha 2, accessory subunit, UBE3C  -  ubiquitin protein ligase e3c, ADK  -  adenosine kinase, PRKDC  -  protein kinase, dna-activated, catalytic polypeptide, LEO1  -  leo1, paf1/rna polymerase ii complex component, homolog (s. cerevisiae), PTPN11  -  protein tyrosine phosphatase, non-receptor type 11, KIAA1586  -  kiaa1586, SLC25A12  -  solute carrier family 25 (aspartate/glutamate carrier), member 12, YWHAE  -  tyrosine 3-monooxygenase/tryptophan 5-monooxygenase activation protein, epsilon polypeptide, YEATS2  -  yeats domain containing 2]', '[POT1  -  protection of telomeres 1, POLA2  -  polymerase (dna directed), alpha 2, accessory subunit, BRCA2  -  breast cancer 2, early onset, HMGN1  -  high mobility group nucleosome binding domain 1, PRKDC  -  protein kinase, dna-activated, catalytic polypeptide, SMC3  -  structural maintenance of chromosomes 3, SET  -  set nuclear oncogene, MCM4  -  minichromosome maintenance complex component 4, MCM6  -  minichromosome maintenance complex component 6, SSRP1  -  structure specific recognition protein 1, USP45  -  ubiquitin specific peptidase 45, PHB  -  prohibitin, CTCF  -  ccctc-binding factor (zinc finger protein)]', '[POLA2  -  polymerase (dna directed), alpha 2, accessory subunit, KIF14  -  kinesin family member 14, IQGAP3  -  iq motif containing gtpase activating protein 3, REEP3  -  receptor accessory protein 3, EIF4E  -  eukaryotic translation initiation factor 4e, ZWILCH  -  zwilch kinetochore protein, BRCA2  -  breast cancer 2, early onset, PRKDC  -  protein kinase, dna-activated, catalytic polypeptide, SMC3  -  structural maintenance of chromosomes 3, CCNG1  -  cyclin g1, MCM4  -  minichromosome maintenance complex component 4, MCM6  -  minichromosome maintenance complex component 6, CEP41  -  centrosomal protein 41kda, YWHAE  -  tyrosine 3-monooxygenase/tryptophan 5-monooxygenase activation protein, epsilon polypeptide]', '[SET  -  set nuclear oncogene, HNRNPU  -  heterogeneous nuclear ribonucleoprotein u (scaffold attachment factor a), SYNCRIP  -  synaptotagmin binding, cytoplasmic rna interacting protein, MTOR  -  mechanistic target of rapamycin (serine/threonine kinase), XPO1  -  exportin 1 (crm1 homolog, yeast)]', '[HNRNPU  -  heterogeneous nuclear ribonucleoprotein u (scaffold attachment factor a), SET  -  set nuclear oncogene, SYNCRIP  -  synaptotagmin binding, cytoplasmic rna interacting protein, MTOR  -  mechanistic target of rapamycin (serine/threonine kinase), XPO1  -  exportin 1 (crm1 homolog, yeast)]', '[POLA2  -  polymerase (dna directed), alpha 2, accessory subunit, MCM4  -  minichromosome maintenance complex component 4, IQGAP3  -  iq motif containing gtpase activating protein 3, MCM6  -  minichromosome maintenance complex component 6, EIF4E  -  eukaryotic translation initiation factor 4e]', '[MCM4  -  minichromosome maintenance complex component 4, POLA2  -  polymerase (dna directed), alpha 2, accessory subunit, IQGAP3  -  iq motif containing gtpase activating protein 3, MCM6  -  minichromosome maintenance complex component 6, EIF4E  -  eukaryotic translation initiation factor 4e]', '[POLA2  -  polymerase (dna directed), alpha 2, accessory subunit, IQGAP3  -  iq motif containing gtpase activating protein 3, KIF14  -  kinesin family member 14, REEP3  -  receptor accessory protein 3, EIF4E  -  eukaryotic translation initiation factor 4e, ZWILCH  -  zwilch kinetochore protein, BRCA2  -  breast cancer 2, early onset, TUBGCP5  -  tubulin, gamma complex associated protein 5, PRKDC  -  protein kinase, dna-activated, catalytic polypeptide, MTOR  -  mechanistic target of rapamycin (serine/threonine kinase), SMC3  -  structural maintenance of chromosomes 3, CCNG1  -  cyclin g1, MCM4  -  minichromosome maintenance complex component 4, MCM6  -  minichromosome maintenance complex component 6, ASPM  -  asp (abnormal spindle) homolog, microcephaly associated (drosophila), CEP41  -  centrosomal protein 41kda, YWHAE  -  tyrosine 3-monooxygenase/tryptophan 5-monooxygenase activation protein, epsilon polypeptide]', '[KRR1  -  krr1, small subunit (ssu) processome component, homolog (yeast), BRCA2  -  breast cancer 2, early onset, SLC25A39  -  solute carrier family 25, member 39, HMGN1  -  high mobility group nucleosome binding domain 1, MTOR  -  mechanistic target of rapamycin (serine/threonine kinase), NFE2L3  -  nuclear factor (erythroid-derived 2)-like 3, SMC3  -  structural maintenance of chromosomes 3, SET  -  set nuclear oncogene, HNRNPU  -  heterogeneous nuclear ribonucleoprotein u (scaffold attachment factor a), BST1  -  bone marrow stromal cell antigen 1, SSRP1  -  structure specific recognition protein 1, USP45  -  ubiquitin specific peptidase 45, GPD2  -  glycerol-3-phosphate dehydrogenase 2 (mitochondrial), GPHN  -  gephyrin, PHB  -  prohibitin, CTCF  -  ccctc-binding factor (zinc finger protein), POLA2  -  polymerase (dna directed), alpha 2, accessory subunit, POT1  -  protection of telomeres 1, ADK  -  adenosine kinase, PRKDC  -  protein kinase, dna-activated, catalytic polypeptide, LEO1  -  leo1, paf1/rna polymerase ii complex component, homolog (s. cerevisiae), MCM4  -  minichromosome maintenance complex component 4, MCM6  -  minichromosome maintenance complex component 6, SYNCRIP  -  synaptotagmin binding, cytoplasmic rna interacting protein, ELP4  -  elongator acetyltransferase complex subunit 4, UPF3B  -  upf3 regulator of nonsense transcripts homolog b (yeast)]', '[KRR1  -  krr1, small subunit (ssu) processome component, homolog (yeast), BRCA2  -  breast cancer 2, early onset, HMGN1  -  high mobility group nucleosome binding domain 1, MTOR  -  mechanistic target of rapamycin (serine/threonine kinase), NFE2L3  -  nuclear factor (erythroid-derived 2)-like 3, SMC3  -  structural maintenance of chromosomes 3, SET  -  set nuclear oncogene, HNRNPU  -  heterogeneous nuclear ribonucleoprotein u (scaffold attachment factor a), BST1  -  bone marrow stromal cell antigen 1, SSRP1  -  structure specific recognition protein 1, USP45  -  ubiquitin specific peptidase 45, GPD2  -  glycerol-3-phosphate dehydrogenase 2 (mitochondrial), GPHN  -  gephyrin, PHB  -  prohibitin, CTCF  -  ccctc-binding factor (zinc finger protein), POLA2  -  polymerase (dna directed), alpha 2, accessory subunit, POT1  -  protection of telomeres 1, ADK  -  adenosine kinase, PRKDC  -  protein kinase, dna-activated, catalytic polypeptide, LEO1  -  leo1, paf1/rna polymerase ii complex component, homolog (s. cerevisiae), MCM4  -  minichromosome maintenance complex component 4, MCM6  -  minichromosome maintenance complex component 6, SYNCRIP  -  synaptotagmin binding, cytoplasmic rna interacting protein, ELP4  -  elongator acetyltransferase complex subunit 4, UPF3B  -  upf3 regulator of nonsense transcripts homolog b (yeast)]', '[HNRNPU  -  heterogeneous nuclear ribonucleoprotein u (scaffold attachment factor a), POT1  -  protection of telomeres 1, PEX7  -  peroxisomal biogenesis factor 7, SCP2  -  sterol carrier protein 2, ZWILCH  -  zwilch kinetochore protein, BRCA2  -  breast cancer 2, early onset, NUP133  -  nucleoporin 133kda, YWHAE  -  tyrosine 3-monooxygenase/tryptophan 5-monooxygenase activation protein, epsilon polypeptide, CTCF  -  ccctc-binding factor (zinc finger protein)]', '[POLA2  -  polymerase (dna directed), alpha 2, accessory subunit, SET  -  set nuclear oncogene, MCM4  -  minichromosome maintenance complex component 4, MCM6  -  minichromosome maintenance complex component 6, SSRP1  -  structure specific recognition protein 1]', '[HNRNPU  -  heterogeneous nuclear ribonucleoprotein u (scaffold attachment factor a), SET  -  set nuclear oncogene, SYNCRIP  -  synaptotagmin binding, cytoplasmic rna interacting protein, MTOR  -  mechanistic target of rapamycin (serine/threonine kinase), XPO1  -  exportin 1 (crm1 homolog, yeast)]', '[CPT2  -  carnitine palmitoyltransferase 2, PEX7  -  peroxisomal biogenesis factor 7, SCP2  -  sterol carrier protein 2, ETFB  -  electron-transfer-flavoprotein, beta polypeptide]', '[POT1  -  protection of telomeres 1, POLA2  -  polymerase (dna directed), alpha 2, accessory subunit, BRCA2  -  breast cancer 2, early onset, PRKDC  -  protein kinase, dna-activated, catalytic polypeptide]', '[POT1  -  protection of telomeres 1, POLA2  -  polymerase (dna directed), alpha 2, accessory subunit, BRCA2  -  breast cancer 2, early onset, PRKDC  -  protein kinase, dna-activated, catalytic polypeptide]', '[CPT2  -  carnitine palmitoyltransferase 2, PEX7  -  peroxisomal biogenesis factor 7, SCP2  -  sterol carrier protein 2, ETFB  -  electron-transfer-flavoprotein, beta polypeptide]', '[CPT2  -  carnitine palmitoyltransferase 2, PEX7  -  peroxisomal biogenesis factor 7, SCP2  -  sterol carrier protein 2, ETFB  -  electron-transfer-flavoprotein, beta polypeptide]', '[HNRNPU  -  heterogeneous nuclear ribonucleoprotein u (scaffold attachment factor a), EIF4E  -  eukaryotic translation initiation factor 4e, NUP133  -  nucleoporin 133kda, SLC35B1  -  solute carrier family 35, member b1, XPO1  -  exportin 1 (crm1 homolog, yeast), UPF3B  -  upf3 regulator of nonsense transcripts homolog b (yeast)]', '[POLA2  -  polymerase (dna directed), alpha 2, accessory subunit, POT1  -  protection of telomeres 1, PEX7  -  peroxisomal biogenesis factor 7, SLC25A39  -  solute carrier family 25, member 39, ADK  -  adenosine kinase, MTOR  -  mechanistic target of rapamycin (serine/threonine kinase), NFE2L3  -  nuclear factor (erythroid-derived 2)-like 3, LEO1  -  leo1, paf1/rna polymerase ii complex component, homolog (s. cerevisiae), FABP5  -  fatty acid binding protein 5 (psoriasis-associated), SET  -  set nuclear oncogene, MCM4  -  minichromosome maintenance complex component 4, MCM6  -  minichromosome maintenance complex component 6, SSRP1  -  structure specific recognition protein 1, SCP2  -  sterol carrier protein 2, SOD1  -  superoxide dismutase 1, soluble, ELP4  -  elongator acetyltransferase complex subunit 4, SLC25A12  -  solute carrier family 25 (aspartate/glutamate carrier), member 12, GPHN  -  gephyrin, PHB  -  prohibitin, TMLHE  -  trimethyllysine hydroxylase, epsilon]', '[POT1  -  protection of telomeres 1, PEX7  -  peroxisomal biogenesis factor 7, KIF14  -  kinesin family member 14, EXOC5  -  exocyst complex component 5, NUP133  -  nucleoporin 133kda, BRCA2  -  breast cancer 2, early onset, RAB2A  -  rab2a, member ras oncogene family, XPO1  -  exportin 1 (crm1 homolog, yeast), EXOC6  -  exocyst complex component 6, HNRNPU  -  heterogeneous nuclear ribonucleoprotein u (scaffold attachment factor a), SCP2  -  sterol carrier protein 2, SCFD2  -  sec1 family domain containing 2, EXOC6B  -  exocyst complex component 6b, SNX5  -  sorting nexin 5, CEP41  -  centrosomal protein 41kda]', '[MCM4  -  minichromosome maintenance complex component 4, POLA2  -  polymerase (dna directed), alpha 2, accessory subunit, IQGAP3  -  iq motif containing gtpase activating protein 3, MCM6  -  minichromosome maintenance complex component 6, EIF4E  -  eukaryotic translation initiation factor 4e, CEP41  -  centrosomal protein 41kda, YWHAE  -  tyrosine 3-monooxygenase/tryptophan 5-monooxygenase activation protein, epsilon polypeptide, CCNG1  -  cyclin g1]']\n"
     ]
    }
   ],
   "source": [
    "print(gl2)"
   ]
  },
  {
   "cell_type": "code",
   "execution_count": 7,
   "metadata": {},
   "outputs": [],
   "source": [
    "df_list = [df0, df1, df2, df3, df4]\n",
    "\n",
    "gene_list = [gl0, gl1, gl2, gl3, gl4]"
   ]
  },
  {
   "cell_type": "code",
   "execution_count": 8,
   "metadata": {},
   "outputs": [
    {
     "name": "stdout",
     "output_type": "stream",
     "text": [
      "118\n",
      "23\n",
      "68\n",
      "96\n",
      "177\n"
     ]
    }
   ],
   "source": [
    "# number of genes in the enrichment GO terms\n",
    "\n",
    "# iterate throuch each cell in the contingency table \n",
    "for enriched_cell in gene_list:\n",
    "    \n",
    "    # list to store extracted genes that belong to enriched GO terms\n",
    "    enriched_genes = []\n",
    "    \n",
    "    # in a cell, iterate through enriched GO terms\n",
    "    for go_term in enriched_cell:\n",
    "        \n",
    "        # need to remove confusing enclosing brackets from string \n",
    "        unparsed_string = go_term[1:-1]\n",
    "        \n",
    "        # then transform it into a list of unparsed gene + description strings\n",
    "        unprocessed_list = unparsed_string.split('  -  ')\n",
    "        \n",
    "        # the first one can be added right away\n",
    "        enriched_genes.append(unprocessed_list[0])\n",
    "        \n",
    "        # iterate through the list. last element ignored (it only contains a description)\n",
    "        for gene_description in unprocessed_list[1:-1]:\n",
    "            \n",
    "            # the last word of the description contains a gene id (that belongs to the next description..)\n",
    "            gene_id = gene_description.rsplit(' ', 1)[-1]\n",
    "            enriched_genes.append(gene_id)\n",
    "    \n",
    "    print(len(set(enriched_genes)))\n",
    "            \n",
    "            "
   ]
  },
  {
   "cell_type": "code",
   "execution_count": 9,
   "metadata": {},
   "outputs": [
    {
     "name": "stdout",
     "output_type": "stream",
     "text": [
      "0.00011682\n",
      "0.00016331\n",
      "0.00020087\n",
      "2.243e-05\n",
      "7.7e-07\n"
     ]
    }
   ],
   "source": [
    "# geometric average of p-values in GO terms enriched\n",
    "\n",
    "# iterate throuch each cell in the contingency table \n",
    "for enriched_cell in df_list:\n",
    "    print(np.round(stats.gmean(enriched_cell[\"P-value\"].tolist()), 8))"
   ]
  },
  {
   "cell_type": "code",
   "execution_count": 11,
   "metadata": {},
   "outputs": [
    {
     "name": "stdout",
     "output_type": "stream",
     "text": [
      "45\n",
      "5\n",
      "28\n",
      "83\n",
      "38\n"
     ]
    }
   ],
   "source": [
    "for enriched_cell in df_list:\n",
    "    print(len(enriched_cell))"
   ]
  }
 ],
 "metadata": {
  "kernelspec": {
   "display_name": "Python 3",
   "language": "python",
   "name": "python3"
  },
  "language_info": {
   "codemirror_mode": {
    "name": "ipython",
    "version": 3
   },
   "file_extension": ".py",
   "mimetype": "text/x-python",
   "name": "python",
   "nbconvert_exporter": "python",
   "pygments_lexer": "ipython3",
   "version": "3.8.5"
  }
 },
 "nbformat": 4,
 "nbformat_minor": 4
}
