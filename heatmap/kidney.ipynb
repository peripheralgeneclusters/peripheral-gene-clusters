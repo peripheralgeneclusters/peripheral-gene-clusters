{
 "cells": [
  {
   "cell_type": "code",
   "execution_count": 1,
   "metadata": {},
   "outputs": [],
   "source": [
    "import pandas as pd\n",
    "import numpy as np\n",
    "from scipy import stats"
   ]
  },
  {
   "cell_type": "code",
   "execution_count": 2,
   "metadata": {},
   "outputs": [],
   "source": [
    "df01 = pd.read_csv(\"kidney_gorilla/k-01.xls\", sep='\\t')\n",
    "df02 = pd.read_csv(\"kidney_gorilla/k-02.xls\", sep='\\t')\n",
    "df11 = pd.read_csv(\"kidney_gorilla/k-11.xls\", sep='\\t')\n",
    "df21 = pd.read_csv(\"kidney_gorilla/k-21.xls\", sep='\\t')\n",
    "df22 = pd.read_csv(\"kidney_gorilla/k-22.xls\", sep='\\t')\n",
    "df31 = pd.read_csv(\"kidney_gorilla/k-31.xls\", sep='\\t')\n",
    "df32 = pd.read_csv(\"kidney_gorilla/k-32.xls\", sep='\\t')\n",
    "df40 = pd.read_csv(\"kidney_gorilla/k-40.xls\", sep='\\t')\n",
    "df41 = pd.read_csv(\"kidney_gorilla/k-41.xls\", sep='\\t')"
   ]
  },
  {
   "cell_type": "code",
   "execution_count": 3,
   "metadata": {},
   "outputs": [],
   "source": [
    "gl01 = df01[\"Genes\"].tolist()\n",
    "gl02 = df02[\"Genes\"].tolist()\n",
    "gl11 = df11[\"Genes\"].tolist()\n",
    "gl21 = df21[\"Genes\"].tolist()\n",
    "gl22 = df22[\"Genes\"].tolist()\n",
    "gl31 = df31[\"Genes\"].tolist()\n",
    "gl32 = df32[\"Genes\"].tolist()\n",
    "gl40 = df40[\"Genes\"].tolist()\n",
    "gl41 = df41[\"Genes\"].tolist()"
   ]
  },
  {
   "cell_type": "code",
   "execution_count": 4,
   "metadata": {},
   "outputs": [],
   "source": [
    "df_list = [df01, df02, df11, df21, df22, df31, df32, df40, df41]\n",
    "gene_list = [gl01, gl02, gl11, gl21, gl22, gl31, gl32, gl40, gl41]"
   ]
  },
  {
   "cell_type": "code",
   "execution_count": 5,
   "metadata": {},
   "outputs": [
    {
     "name": "stdout",
     "output_type": "stream",
     "text": [
      "31\n",
      "64\n",
      "50\n",
      "8\n",
      "56\n",
      "4\n",
      "80\n",
      "33\n",
      "100\n"
     ]
    }
   ],
   "source": [
    "# iterate throuch each cell in the contingency table \n",
    "for enriched_cell in gene_list:\n",
    "    \n",
    "    # list to store extracted genes that belong to enriched GO terms\n",
    "    enriched_genes = []\n",
    "    \n",
    "    # in a cell, iterate through enriched GO terms\n",
    "    for go_term in enriched_cell:\n",
    "        \n",
    "        # need to remove confusing enclosing brackets from string \n",
    "        unparsed_string = go_term[1:-1]\n",
    "        \n",
    "        # then transform it into a list of unparsed gene + description strings\n",
    "        unprocessed_list = unparsed_string.split('  -  ')\n",
    "           \n",
    "        # the first one can be added right away\n",
    "        enriched_genes.append(unprocessed_list[0])\n",
    "        \n",
    "        # iterate through the list. last element ignored (it only contains a description)\n",
    "        for gene_description in unprocessed_list[1:-1]:\n",
    "            \n",
    "            # the last word of the description contains a gene id (that belongs to the next description..)\n",
    "            gene_id = gene_description.rsplit(' ', 1)[-1]\n",
    "            enriched_genes.append(gene_id)\n",
    "    \n",
    "    print(len(set(enriched_genes)))"
   ]
  },
  {
   "cell_type": "code",
   "execution_count": 6,
   "metadata": {},
   "outputs": [
    {
     "name": "stdout",
     "output_type": "stream",
     "text": [
      "0.00015514\n",
      "0.00016511\n",
      "0.00044315\n",
      "0.000187\n",
      "0.00032827\n",
      "0.00024049\n",
      "1.367e-05\n",
      "5.864e-05\n",
      "4.86e-05\n"
     ]
    }
   ],
   "source": [
    "# geometric average of p-values in GO terms enriched\n",
    "\n",
    "# iterate throuch each cell in the contingency table \n",
    "for enriched_cell in df_list:\n",
    "    print(np.round(stats.gmean(enriched_cell[\"P-value\"].tolist()), 8))"
   ]
  },
  {
   "cell_type": "code",
   "execution_count": 7,
   "metadata": {},
   "outputs": [
    {
     "name": "stdout",
     "output_type": "stream",
     "text": [
      "3\n",
      "58\n",
      "2\n",
      "1\n",
      "30\n",
      "7\n",
      "94\n",
      "5\n",
      "23\n"
     ]
    }
   ],
   "source": [
    "for enriched_cell in df_list:\n",
    "    print(len(enriched_cell))"
   ]
  }
 ],
 "metadata": {
  "kernelspec": {
   "display_name": "Python 3",
   "language": "python",
   "name": "python3"
  },
  "language_info": {
   "codemirror_mode": {
    "name": "ipython",
    "version": 3
   },
   "file_extension": ".py",
   "mimetype": "text/x-python",
   "name": "python",
   "nbconvert_exporter": "python",
   "pygments_lexer": "ipython3",
   "version": "3.8.5"
  }
 },
 "nbformat": 4,
 "nbformat_minor": 4
}
