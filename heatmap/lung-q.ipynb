{
 "cells": [
  {
   "cell_type": "code",
   "execution_count": 2,
   "metadata": {},
   "outputs": [],
   "source": [
    "import pandas as pd\n",
    "import numpy as np\n",
    "from scipy import stats"
   ]
  },
  {
   "cell_type": "code",
   "execution_count": 3,
   "metadata": {},
   "outputs": [],
   "source": [
    "df02 = pd.read_csv(\"lung_gorilla/l-02.xls\", sep='\\t')\n",
    "df10 = pd.read_csv(\"lung_gorilla/l-10.xls\", sep='\\t')\n",
    "df11 = pd.read_csv(\"lung_gorilla/l-11.xls\", sep='\\t')\n",
    "df12 = pd.read_csv(\"lung_gorilla/l-12.xls\", sep='\\t')\n",
    "df20 = pd.read_csv(\"lung_gorilla/l-20.xls\", sep='\\t')\n",
    "df21 = pd.read_csv(\"lung_gorilla/l-21.xls\", sep='\\t')\n",
    "df32 = pd.read_csv(\"lung_gorilla/l-32.xls\", sep='\\t')\n",
    "df41 = pd.read_csv(\"lung_gorilla/l-41.xls\", sep='\\t')\n",
    "df42 = pd.read_csv(\"lung_gorilla/l-42.xls\", sep='\\t')"
   ]
  },
  {
   "cell_type": "code",
   "execution_count": 4,
   "metadata": {},
   "outputs": [],
   "source": [
    "df02 = df02[df02['FDR q-value']<0.05]\n",
    "df10 = df10[df10['FDR q-value']<0.05]\n",
    "df11 = df11[df11['FDR q-value']<0.05]\n",
    "df12 = df12[df12['FDR q-value']<0.05]\n",
    "df20 = df20[df20['FDR q-value']<0.05]\n",
    "df21 = df21[df21['FDR q-value']<0.05]\n",
    "df32 = df32[df32['FDR q-value']<0.05]\n",
    "df41 = df41[df41['FDR q-value']<0.05]\n",
    "df42 = df42[df42['FDR q-value']<0.05]"
   ]
  },
  {
   "cell_type": "code",
   "execution_count": 5,
   "metadata": {},
   "outputs": [],
   "source": [
    "gl02 = df02[\"Genes\"].tolist()\n",
    "gl10 = df10[\"Genes\"].tolist()\n",
    "gl11 = df11[\"Genes\"].tolist()\n",
    "gl12 = df12[\"Genes\"].tolist()\n",
    "gl20 = df20[\"Genes\"].tolist()\n",
    "gl21 = df21[\"Genes\"].tolist()\n",
    "gl32 = df32[\"Genes\"].tolist()\n",
    "gl41 = df41[\"Genes\"].tolist()\n",
    "gl42 = df42[\"Genes\"].tolist()"
   ]
  },
  {
   "cell_type": "code",
   "execution_count": 6,
   "metadata": {},
   "outputs": [],
   "source": [
    "df_list = [df02, df10, df11, df12, df20, df21, df32, df41, df42]\n",
    "gene_list = [gl02, gl10, gl11, gl12, gl20, gl21, gl32, gl41, gl42]"
   ]
  },
  {
   "cell_type": "code",
   "execution_count": 7,
   "metadata": {},
   "outputs": [
    {
     "name": "stdout",
     "output_type": "stream",
     "text": [
      "50\n",
      "0\n",
      "0\n",
      "39\n",
      "0\n",
      "77\n",
      "0\n",
      "0\n",
      "70\n"
     ]
    }
   ],
   "source": [
    "# iterate throuch each cell in the contingency table \n",
    "for enriched_cell in gene_list:\n",
    "    \n",
    "    # list to store extracted genes that belong to enriched GO terms\n",
    "    enriched_genes = []\n",
    "    \n",
    "    # in a cell, iterate through enriched GO terms\n",
    "    for go_term in enriched_cell:\n",
    "        \n",
    "        # need to remove confusing enclosing brackets from string \n",
    "        unparsed_string = go_term[1:-1]\n",
    "        \n",
    "        # then transform it into a list of unparsed gene + description strings\n",
    "        unprocessed_list = unparsed_string.split('  -  ')\n",
    "           \n",
    "        # the first one can be added right away\n",
    "        enriched_genes.append(unprocessed_list[0])\n",
    "        \n",
    "        # iterate through the list. last element ignored (it only contains a description)\n",
    "        for gene_description in unprocessed_list[1:-1]:\n",
    "            \n",
    "            # the last word of the description contains a gene id (that belongs to the next description..)\n",
    "            gene_id = gene_description.rsplit(' ', 1)[-1]\n",
    "            enriched_genes.append(gene_id)\n",
    "    \n",
    "    print(len(set(enriched_genes)))"
   ]
  },
  {
   "cell_type": "code",
   "execution_count": null,
   "metadata": {},
   "outputs": [],
   "source": [
    "# geometric average of p-values in GO terms enriched\n",
    "\n",
    "# iterate throuch each cell in the contingency table \n",
    "for enriched_cell in df_list:\n",
    "    print(np.round(np.mean(enriched_cell[\"FDR q-value\"].tolist()), 8))"
   ]
  },
  {
   "cell_type": "code",
   "execution_count": 9,
   "metadata": {},
   "outputs": [],
   "source": [
    "# iterate throuch each cell in the contingency table \n",
    "# for enriched_cell in df_list:\n",
    "#    print(np.round(np.max(enriched_cell[\"FDR q-value\"].tolist()), 8))"
   ]
  },
  {
   "cell_type": "code",
   "execution_count": 10,
   "metadata": {},
   "outputs": [
    {
     "name": "stdout",
     "output_type": "stream",
     "text": [
      "2.23694656\n",
      "nan\n",
      "nan\n",
      "1.43415218\n",
      "nan\n",
      "1.81815641\n",
      "nan\n",
      "nan\n",
      "2.10457745\n"
     ]
    }
   ],
   "source": [
    "for enriched_cell in df_list:\n",
    "    print(np.round(-1 * np.log10(np.median(enriched_cell[\"FDR q-value\"].tolist())), 8))"
   ]
  },
  {
   "cell_type": "code",
   "execution_count": 11,
   "metadata": {},
   "outputs": [],
   "source": [
    "# for enriched_cell in df_list:\n",
    "#    print(np.round(np.min(enriched_cell[\"FDR q-value\"].tolist()), 8))"
   ]
  },
  {
   "cell_type": "code",
   "execution_count": 12,
   "metadata": {},
   "outputs": [
    {
     "name": "stdout",
     "output_type": "stream",
     "text": [
      "14\n",
      "0\n",
      "0\n",
      "17\n",
      "0\n",
      "19\n",
      "0\n",
      "0\n",
      "41\n"
     ]
    }
   ],
   "source": [
    "for enriched_cell in df_list:\n",
    "    print(len(enriched_cell))"
   ]
  },
  {
   "cell_type": "code",
   "execution_count": null,
   "metadata": {},
   "outputs": [],
   "source": []
  }
 ],
 "metadata": {
  "kernelspec": {
   "display_name": "Python 3",
   "language": "python",
   "name": "python3"
  },
  "language_info": {
   "codemirror_mode": {
    "name": "ipython",
    "version": 3
   },
   "file_extension": ".py",
   "mimetype": "text/x-python",
   "name": "python",
   "nbconvert_exporter": "python",
   "pygments_lexer": "ipython3",
   "version": "3.8.5"
  }
 },
 "nbformat": 4,
 "nbformat_minor": 4
}
