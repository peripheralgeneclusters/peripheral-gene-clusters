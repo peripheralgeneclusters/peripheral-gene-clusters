{
 "cells": [
  {
   "cell_type": "code",
   "execution_count": 1,
   "metadata": {},
   "outputs": [],
   "source": [
    "import pandas as pd\n",
    "import numpy as np\n",
    "from scipy import stats"
   ]
  },
  {
   "cell_type": "code",
   "execution_count": 2,
   "metadata": {},
   "outputs": [],
   "source": [
    "df02 = pd.read_csv(\"lung_gorilla/l-02.xls\", sep='\\t')\n",
    "df10 = pd.read_csv(\"lung_gorilla/l-10.xls\", sep='\\t')\n",
    "df11 = pd.read_csv(\"lung_gorilla/l-11.xls\", sep='\\t')\n",
    "df12 = pd.read_csv(\"lung_gorilla/l-12.xls\", sep='\\t')\n",
    "df20 = pd.read_csv(\"lung_gorilla/l-20.xls\", sep='\\t')\n",
    "df21 = pd.read_csv(\"lung_gorilla/l-21.xls\", sep='\\t')\n",
    "df32 = pd.read_csv(\"lung_gorilla/l-32.xls\", sep='\\t')\n",
    "df41 = pd.read_csv(\"lung_gorilla/l-41.xls\", sep='\\t')\n",
    "df42 = pd.read_csv(\"lung_gorilla/l-42.xls\", sep='\\t')"
   ]
  },
  {
   "cell_type": "code",
   "execution_count": 3,
   "metadata": {},
   "outputs": [],
   "source": [
    "gl02 = df02[\"Genes\"].tolist()\n",
    "gl10 = df10[\"Genes\"].tolist()\n",
    "gl11 = df11[\"Genes\"].tolist()\n",
    "gl12 = df12[\"Genes\"].tolist()\n",
    "gl20 = df20[\"Genes\"].tolist()\n",
    "gl21 = df21[\"Genes\"].tolist()\n",
    "gl32 = df32[\"Genes\"].tolist()\n",
    "gl41 = df41[\"Genes\"].tolist()\n",
    "gl42 = df42[\"Genes\"].tolist()"
   ]
  },
  {
   "cell_type": "code",
   "execution_count": 4,
   "metadata": {},
   "outputs": [],
   "source": [
    "df_list = [df02, df10, df11, df12, df20, df21, df32, df41, df42]\n",
    "gene_list = [gl02, gl10, gl11, gl12, gl20, gl21, gl32, gl41, gl42]"
   ]
  },
  {
   "cell_type": "code",
   "execution_count": 5,
   "metadata": {},
   "outputs": [
    {
     "name": "stdout",
     "output_type": "stream",
     "text": [
      "56\n",
      "2\n",
      "58\n",
      "43\n",
      "15\n",
      "106\n",
      "31\n",
      "4\n",
      "75\n"
     ]
    }
   ],
   "source": [
    "# iterate throuch each cell in the contingency table \n",
    "for enriched_cell in gene_list:\n",
    "    \n",
    "    # list to store extracted genes that belong to enriched GO terms\n",
    "    enriched_genes = []\n",
    "    \n",
    "    # in a cell, iterate through enriched GO terms\n",
    "    for go_term in enriched_cell:\n",
    "        \n",
    "        # need to remove confusing enclosing brackets from string \n",
    "        unparsed_string = go_term[1:-1]\n",
    "        \n",
    "        # then transform it into a list of unparsed gene + description strings\n",
    "        unprocessed_list = unparsed_string.split('  -  ')\n",
    "           \n",
    "        # the first one can be added right away\n",
    "        enriched_genes.append(unprocessed_list[0])\n",
    "        \n",
    "        # iterate through the list. last element ignored (it only contains a description)\n",
    "        for gene_description in unprocessed_list[1:-1]:\n",
    "            \n",
    "            # the last word of the description contains a gene id (that belongs to the next description..)\n",
    "            gene_id = gene_description.rsplit(' ', 1)[-1]\n",
    "            enriched_genes.append(gene_id)\n",
    "    \n",
    "    print(len(set(enriched_genes)))"
   ]
  },
  {
   "cell_type": "code",
   "execution_count": 6,
   "metadata": {},
   "outputs": [
    {
     "name": "stdout",
     "output_type": "stream",
     "text": [
      "9.61e-05\n",
      "0.000395\n",
      "0.00034727\n",
      "0.0002251\n",
      "0.00049876\n",
      "2.462e-05\n",
      "0.00035373\n",
      "0.000798\n",
      "2.601e-05\n"
     ]
    }
   ],
   "source": [
    "# geometric average of p-values in GO terms enriched\n",
    "\n",
    "# iterate throuch each cell in the contingency table \n",
    "for enriched_cell in df_list:\n",
    "    print(np.round(stats.gmean(enriched_cell[\"P-value\"].tolist()), 8))"
   ]
  },
  {
   "cell_type": "code",
   "execution_count": 7,
   "metadata": {},
   "outputs": [
    {
     "name": "stdout",
     "output_type": "stream",
     "text": [
      "42\n",
      "1\n",
      "5\n",
      "51\n",
      "4\n",
      "39\n",
      "9\n",
      "2\n",
      "51\n"
     ]
    }
   ],
   "source": [
    "for enriched_cell in df_list:\n",
    "    print(len(enriched_cell))"
   ]
  }
 ],
 "metadata": {
  "kernelspec": {
   "display_name": "Python 3",
   "language": "python",
   "name": "python3"
  },
  "language_info": {
   "codemirror_mode": {
    "name": "ipython",
    "version": 3
   },
   "file_extension": ".py",
   "mimetype": "text/x-python",
   "name": "python",
   "nbconvert_exporter": "python",
   "pygments_lexer": "ipython3",
   "version": "3.8.5"
  }
 },
 "nbformat": 4,
 "nbformat_minor": 4
}
