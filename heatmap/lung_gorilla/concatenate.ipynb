{
 "cells": [
  {
   "cell_type": "code",
   "execution_count": 1,
   "metadata": {},
   "outputs": [],
   "source": [
    "import pandas as pd"
   ]
  },
  {
   "cell_type": "code",
   "execution_count": 2,
   "metadata": {},
   "outputs": [],
   "source": [
    "df00 = pd.read_csv(\"lung-0-0.csv\", sep='\\t')\n",
    "df01 = pd.read_csv(\"lung-0-1.csv\", sep='\\t')\n",
    "df02 = pd.read_csv(\"lung-0-2.csv\", sep='\\t')\n",
    "\n",
    "df10 = pd.read_csv(\"lung-1-0.csv\", sep='\\t')\n",
    "df11 = pd.read_csv(\"lung-1-1.csv\", sep='\\t')\n",
    "df12 = pd.read_csv(\"lung-1-2.csv\", sep='\\t')\n",
    "\n",
    "df20 = pd.read_csv(\"lung-2-0.csv\", sep='\\t')\n",
    "df21 = pd.read_csv(\"lung-2-1.csv\", sep='\\t')\n",
    "df22 = pd.read_csv(\"lung-2-2.csv\", sep='\\t')\n",
    "\n",
    "df30 = pd.read_csv(\"lung-3-0.csv\", sep='\\t')\n",
    "df31 = pd.read_csv(\"lung-3-1.csv\", sep='\\t')\n",
    "df32 = pd.read_csv(\"lung-3-2.csv\", sep='\\t')\n",
    "\n",
    "df40 = pd.read_csv(\"lung-4-0.csv\", sep='\\t')\n",
    "df41 = pd.read_csv(\"lung-4-1.csv\", sep='\\t')\n",
    "df42 = pd.read_csv(\"lung-4-2.csv\", sep='\\t')"
   ]
  },
  {
   "cell_type": "code",
   "execution_count": 3,
   "metadata": {},
   "outputs": [],
   "source": [
    "df0 = pd.concat([df00, df01, df02])\n",
    "df1 = pd.concat([df10, df11, df12])\n",
    "df2 = pd.concat([df20, df21, df22])\n",
    "df3 = pd.concat([df30, df31, df32])\n",
    "df4 = pd.concat([df40, df41, df42])"
   ]
  },
  {
   "cell_type": "code",
   "execution_count": 4,
   "metadata": {},
   "outputs": [],
   "source": [
    "df0.to_csv(\"0.csv\", sep='\\t', index=False)\n",
    "df1.to_csv(\"1.csv\", sep='\\t', index=False)\n",
    "df2.to_csv(\"2.csv\", sep='\\t', index=False)\n",
    "df3.to_csv(\"3.csv\", sep='\\t', index=False)\n",
    "df4.to_csv(\"4.csv\", sep='\\t', index=False)"
   ]
  },
  {
   "cell_type": "code",
   "execution_count": null,
   "metadata": {},
   "outputs": [],
   "source": []
  }
 ],
 "metadata": {
  "kernelspec": {
   "display_name": "Python 3",
   "language": "python",
   "name": "python3"
  },
  "language_info": {
   "codemirror_mode": {
    "name": "ipython",
    "version": 3
   },
   "file_extension": ".py",
   "mimetype": "text/x-python",
   "name": "python",
   "nbconvert_exporter": "python",
   "pygments_lexer": "ipython3",
   "version": "3.7.7"
  }
 },
 "nbformat": 4,
 "nbformat_minor": 4
}
