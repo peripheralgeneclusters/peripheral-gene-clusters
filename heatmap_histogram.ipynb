{
 "cells": [
  {
   "cell_type": "markdown",
   "metadata": {},
   "source": [
    "For the source of these numbers, check 'Heatmap' folder.\n",
    "\n",
    "Guide for jupyter notebook namings in the folder:\n",
    "\n",
    "\"brain\": sub-cluster values (first 4 column) with p value threshold 0.05\n",
    "\n",
    "\"brain-4-clusters\": core cluster values (last column) with p value threshold 0.05\n",
    "\n",
    "\"brain-q\": same, but with q value threshold 0.05\n",
    "\n",
    "\"brain-4-clusters-q\": same, but with q value threshold 0.05"
   ]
  },
  {
   "cell_type": "code",
   "execution_count": 1,
   "metadata": {},
   "outputs": [],
   "source": [
    "import numpy as np\n",
    "from numpy import inf\n",
    "import seaborn as sns; sns.set_theme()\n",
    "import matplotlib.pyplot as plt\n",
    "import pandas as pd\n",
    "from math import log10"
   ]
  },
  {
   "cell_type": "code",
   "execution_count": 12,
   "metadata": {},
   "outputs": [],
   "source": [
    "# Cramer's V Calculation\n",
    "\n",
    "def expected_m(a):\n",
    "    e = np.zeros(a.shape)\n",
    "    for i in range(e.shape[0]):\n",
    "        for j in range(e.shape[1]):\n",
    "            e[i][j] = (np.sum(a, axis=1)[i])*(np.sum(a, axis=0)[j])/(np.sum(a))\n",
    "    return e\n",
    "\n",
    "def chisq (a, e):\n",
    "    return (np.sum(np.square(a-e)/e))\n",
    "\n",
    "def cramersv (a, a_chi):\n",
    "    r = a.shape[0]\n",
    "    k = a.shape[1]\n",
    "    n = np.sum(a)\n",
    "    num = a_chi/n\n",
    "    denom = np.minimum(r-1, k-1)\n",
    "    return(np.sqrt(num/denom))\n",
    "\n",
    "def cramer (a):\n",
    "    e = expected_m(a)\n",
    "    chi = chisq(a, e)\n",
    "    cra = cramersv(a, chi)\n",
    "    return cra"
   ]
  },
  {
   "cell_type": "markdown",
   "metadata": {},
   "source": [
    "For brain tissue, there is an 'original' version ('orig'), and a reordered version where the large numbers are in the diagonal.\n",
    "For kidney and lung, there is no reordering"
   ]
  },
  {
   "cell_type": "code",
   "execution_count": 2,
   "metadata": {},
   "outputs": [],
   "source": [
    "# contingency matrix as originally exported\n",
    "brain_orig = np.array([[13, 88, 5, 1, 107], \n",
    "                       [7, 17, 0, 188, 212], \n",
    "                       [138, 3, 185, 0, 326], \n",
    "                       [25, 50, 14, 11, 100]])\n",
    "\n",
    "# avg brain node strength \n",
    "brain_deg_orig = np.array([[1.82, 15, 17.79, 12.07, 13.5],\n",
    "                           [5.85, 22.87, 0, 23, 22.4],\n",
    "                           [6.56, 11.3, 22.12, 0, 15.4],\n",
    "                           [6.71, 23.15, 21.68, 27.04, 19.3]])\n",
    "\n",
    "# number of genes enriched in each cell (p-value cutoff 0.05)\n",
    "# enrichment values pertaining to the original contingency matrix\n",
    "brain_enrich_orig = np.array([[8, 4, 0, 0, 39],\n",
    "                              [0, 14, 0, 170, 190], \n",
    "                              [41, 0, 159, 0, 262], \n",
    "                              [0, 22, 3, 3, 40]])\n",
    "\n",
    "# number of enriched go tags (p-value cutoff 0.05)\n",
    "brain_go_orig = np.array([[41, 2, 0, 0, 28],\n",
    "                          [0, 25, 0, 119, 147], \n",
    "                          [7, 0, 133, 0, 80], \n",
    "                          [0, 9, 4, 3, 10]])\n",
    "\n",
    "# geometric mean of p-values of enriched GO terms\n",
    "brain_p_orig = np.array([[8.54e-05, 0.00040293, 0, 0, 0.0001763], \n",
    "                         [0, 2.851e-05, 0, 6.02e-06, 2.93e-06], \n",
    "                         [1.042e-05, 0, 1.05e-06, 0, 6.5e-07], \n",
    "                         [0, 4.461e-05, 0.00075451, 0.000202, 0.00025006]])\n",
    "\n",
    "# mean of q values (without threshold)\n",
    "brain_q_orig = np.array([[0.05484073, 1.0, 0, 0, 0.12716786], \n",
    "                         [0, 0.07654632, 0, 0.01056775, 0.00931782], \n",
    "                         [0.16781714, 0, 0.00800083, 0, 0.01314259], \n",
    "                         [0, 0.27832889, 1.0, 0.715, 0.4147]])\n",
    "# (without threshold)\n",
    "brain_qmax_orig = np.array([[0.149, 1.0, 0, 0, 0.243], \n",
    "                            [0, 0.247, 0, 0.0595, 0.0462], \n",
    "                            [0.918, 0, 0.0481, 0, 0.0708], \n",
    "                            [0, 0.749, 1.0, 1.0, 0.604]])\n",
    "\n",
    "# (without threshold)\n",
    "brain_qmed_orig = np.array([[0.0407, 1.0, 0, 0, 0.133], \n",
    "                            [0, 0.00608, 0, 0.00275, 0.00113], \n",
    "                            [0.00977, 0, 0.000664, 0, 0.00095], \n",
    "                            [0, 0.344, 1.0, 0.687, 0.4635]])\n",
    "\n",
    "# (without threshold)\n",
    "brain_qmin_orig = np.array([[0.00637, 1.0, 0, 0, 0.0144], \n",
    "                            [0, 0.000298, 0, 1e-08, 0.0], \n",
    "                            [0.00148, 0, 0.0, 0, 0.0], \n",
    "                            [0, 0.00162, 1.0, 0.458, 0.114]])\n",
    "\n",
    "# (without threshold)\n",
    "brain_p_e_orig = np.array([[5, 4, 0, 0, 4], \n",
    "                      [0, 5, 0, 6, 6], \n",
    "                      [5, 0, 6, 0, 7], \n",
    "                      [0, 5, 4, 4, 4]])\n",
    "\n",
    "# mean q values with 0.05 threshold\n",
    "brain_enrich_qt_orig = np.array([[8, 0, 0, 0, 11], \n",
    "                                 [0, 12, 0, 170, 190], \n",
    "                                 [36, 0, 159, 0, 250], \n",
    "                                 [0, 6, 0, 0, 0]])\n",
    "\n",
    "# enriched GO terms with q < 0.05 threshold \n",
    "brain_go_qt_orig = np.array([[24, 0, 0, 0, 3], \n",
    "                             [0, 13, 0, 111, 147], \n",
    "                             [5, 0, 133, 0, 69], \n",
    "                             [0, 3, 0, 0, 0]])\n",
    "\n",
    "# median q values with 0.05 threshold\n",
    "brain_qmed_logqt_orig = np.array([[1.74958, 0, 0, 0, 1.63078414], \n",
    "                                  [0, 2.42945706, np.nan, 2.61261017, 2.94692156], \n",
    "                                  [2.1123827, 0, 3.17783192, np.nan, 3.4621809], \n",
    "                                  [0, 2.48945499, 0, 0, 0]])\n",
    "\n",
    "\n",
    "\n",
    "# -----\n",
    "\n",
    "\n",
    "\n",
    "# sidenote: no reordeing will be done on kidney / lung contingency tables\n",
    "# number of genes in the intersections\n",
    "kidney = np.array([[10, 93, 74, 177], \n",
    "                   [10, 53, 34, 97], \n",
    "                   [4, 11, 64, 79], \n",
    "                   [2, 19, 90, 111], \n",
    "                   [93, 163, 0, 256]])\n",
    "\n",
    "\n",
    "lung = np.array([[2, 8,  65, 75], \n",
    "                 [14, 93, 68, 175], \n",
    "                 [65, 141, 0, 206], \n",
    "                 [10, 66, 39, 115], \n",
    "                 [2, 21, 90, 113]])\n",
    "\n",
    "\n",
    "\n",
    "# kidney avg node degrees\n",
    "kidney_deg = np.array([[2.69, 3.79, 14.82, 8.34],\n",
    "                       [1.3, 3.92, 10.9, 6.09],\n",
    "                       [2.29, 1.58, 13.77, 11.49],\n",
    "                       [1, 3.47, 18.03, 15.23],\n",
    "                       [1.82, 1.14, 0, 0.39]])\n",
    "\n",
    "# number of genes enriched in each cell\n",
    "kidney_enrich = np.array([[0, 31, 64, 118], \n",
    "                          [0, 50, 0, 23],\n",
    "                          [0, 8, 56, 68],\n",
    "                          [0, 4, 80, 96],\n",
    "                          [33, 10, 0, 177]])\n",
    "\n",
    "# number of GO terms enriched in each cell\n",
    "kidney_go = np.array([[0, 3, 58, 45], \n",
    "                      [0, 2, 0, 5],\n",
    "                      [0, 1, 30, 28],\n",
    "                      [0, 7, 94, 83],\n",
    "                      [5, 23, 0, 38]])\n",
    "\n",
    "\n",
    "# -------------\n",
    "# number of genes enriched in each cell\n",
    "lung_enrich = np.array([[0, 0, 56, 60], \n",
    "                        [2, 58, 43, 137],\n",
    "                        [15, 106, 0, 143],\n",
    "                        [0, 0, 31, 75],\n",
    "                        [0, 4, 75, 93]])\n",
    "\n",
    "# number of GO terms enriched in each cell\n",
    "lung_go = np.array([[0, 0, 42, 35], \n",
    "                    [1, 5, 51, 58],\n",
    "                    [4, 39, 0, 33],\n",
    "                    [0, 0, 9, 2],\n",
    "                    [0, 2, 51, 59]])\n",
    "\n",
    "\n",
    "# -------------\n",
    "\n",
    "# geometric mean of p-values of enriched GO terms\n",
    "kidney_p = np.array([[0, 0.00015514, 0.00016511, 0.00011682], \n",
    "                     [0, 0.00044315, 0, 0.00016331], \n",
    "                     [0, 0.000187, 0.00032827, 0.00020087],\n",
    "                     [0, 0.00024049, 1.367e-05, 2.243e-05],\n",
    "                     [5.864e-05, 4.86e-05 , 0, 7.7e-07]])\n",
    "\n",
    "# ---\n",
    "\n",
    "kidney_q = np.array([[0, 0.62833333, 0.06523069, 0.06296378], \n",
    "                     [0, 1.0, 0, 0.5314], \n",
    "                     [0, 1.0, 0.19315333, 0.1538375],\n",
    "                     [0, 0.50257143, 0.01301275, 0.0228558],\n",
    "                     [0.595858, 0.11215696, 0, 0.03108366]])\n",
    "\n",
    "kidney_qmax = np.array([[0, 0.918, 0.113, 0.138], \n",
    "                        [0, 1.0, 0, 1.0], \n",
    "                        [0, 1.0, 0.251, 0.231],\n",
    "                        [0, 0.723, 0.0724, 0.0795],\n",
    "                        [1.0, 0.285, 0, 0.125]])\n",
    "\n",
    "kidney_qmed = np.array([[0, 0.643, 0.08145, 0.0682], \n",
    "                        [0, 1.0, 0, 0.475], \n",
    "                        [0, 1.0, 0.2095, 0.163],\n",
    "                        [0, 0.532, 0.00681, 0.0124],\n",
    "                        [0.954, 0.116, 0, 0.003295]])\n",
    "\n",
    "kidney_qmin = np.array([[0, 0.324, 0.00239, 0.00371], \n",
    "                        [0, 1.0, 0, 0.121], \n",
    "                        [0, 1.0, 0.0841, 0.0036],\n",
    "                        [0, 0.279, 3.83e-06, 3.4e-07],\n",
    "                        [0.00269, 0.000375, 0, 0.0]])\n",
    "\n",
    "\n",
    "# q value threshold at 0.05\n",
    "# number of genes enriched in each cell\n",
    "kidney_enrich_qt = np.array([[0, 0, 49, 109], \n",
    "                             [0, 0, 0, 0], \n",
    "                             [0, 0, 0, 57],\n",
    "                             [0, 0, 80, 95],\n",
    "                             [16, 50, 0, 160]])\n",
    "\n",
    "# number of GO terms enriched in each cell\n",
    "kidney_go_qt = np.array([[0, 0, 23, 21], \n",
    "                         [0, 0, 0, 0], \n",
    "                         [0, 0, 0, 3],\n",
    "                         [0, 0, 85, 70],\n",
    "                         [2, 8, 0, 29]])\n",
    "\n",
    "\n",
    "# ---\n",
    "\n",
    "lung_p = np.array([[0, 0, 9.61e-05, 6.298e-05], \n",
    "                   [0.000395, 0.00034727, 0.0002251, 5.077e-05], \n",
    "                   [0.00049876, 2.462e-05, 0, 4.46e-06],\n",
    "                   [0, 0, 0.00035373, 0.00067657],\n",
    "                   [0, 0.000798, 2.601e-05, 3.845e-05]])\n",
    "\n",
    "\n",
    "\n",
    "kidney_p_e = np.array([[0, 4, 4, 4], \n",
    "                       [0, 4, 0, 4], \n",
    "                       [0, 4, 4, 4], \n",
    "                       [0, 4, 5, 5], \n",
    "                       [5, 5, 0, 7]])\n",
    "\n",
    "lung_p_e = np.array([[0, 0, 5, 5], \n",
    "                     [4, 4, 4, 5], \n",
    "                     [4, 5, 0, 6], \n",
    "                     [0, 0, 4, 4], \n",
    "                     [0, 4, 5, 5]])\n",
    "\n",
    "\n",
    "# ---\n",
    "\n",
    "lung_q = np.array([[0, 0, 0.08588407, 0.07021486], \n",
    "                   [1.0, 0.8534, 0.0953498, 0.03726084], \n",
    "                   [1.0, 0.06068061, 0, 0.02738908],\n",
    "                   [0, 0, 0.58366667, 1.0],\n",
    "                   [0, 1.0, 0.0270358, 0.02859621]])\n",
    "\n",
    "lung_qmax = np.array([[0, 0, 0.183, 0.162], \n",
    "                      [1.0, 1.0, 0.17, 0.111], \n",
    "                      [1.0, 0.164, 0, 0.134],\n",
    "                      [0, 0, 0.713, 1.0],\n",
    "                      [0, 1.0, 0.123, 0.0878]])\n",
    "\n",
    "lung_qmed = np.array([[0, 0, 0.0947, 0.0788], \n",
    "                      [1.0, 1.0, 0.113, 0.02845], \n",
    "                      [1.0, 0.0543, 0, 0.0055],\n",
    "                      [0, 0, 0.629, 1.0],\n",
    "                      [0, 1.0, 0.0113, 0.013]])\n",
    "\n",
    "lung_qmin = np.array([[0, 0, 0.000407, 0.00132], \n",
    "                      [1.0, 0.326, 0.00407, 0.000413], \n",
    "                      [1.0, 1.37e-06, 0, 3.41e-06],\n",
    "                      [0, 0, 0.203, 1.0],\n",
    "                      [0, 1.0, 2.93e-06, 1.51e-06]])\n",
    "\n",
    "\n",
    "lung_enrich_qt = np.array([[0, 0, 50, 55], \n",
    "                           [0, 0, 39, 129], \n",
    "                           [0, 77, 0, 137],\n",
    "                           [0, 0, 0, 0],\n",
    "                           [0, 0, 70, 88]])\n",
    "\n",
    "lung_go_qt = np.array([[0, 0, 14, 17], \n",
    "                       [0, 0, 17, 33], \n",
    "                       [0, 19, 0, 26],\n",
    "                       [0, 0, 0, 0],\n",
    "                       [0, 0, 41, 43]])\n",
    "\n",
    "\n"
   ]
  },
  {
   "cell_type": "code",
   "execution_count": 8,
   "metadata": {},
   "outputs": [],
   "source": [
    "# reordering columns (\"diagonalizing\" brain table)\n",
    "\n",
    "permutation = [3, 0, 2, 1, 4]\n",
    "idx = np.empty_like(permutation)\n",
    "idx[permutation] = np.arange(len(permutation))\n",
    "\n",
    "brain = brain_orig[:, idx]\n",
    "brain_deg = brain_deg_orig[:, idx]\n",
    "brain_enrich = brain_enrich_orig[:, idx]\n",
    "brain_go = brain_go_orig[:, idx]\n",
    "\n",
    "brain_p = brain_p_orig[:, idx]\n",
    "brain_p_e = brain_p_e_orig[:, idx]\n",
    "brain_q = brain_q_orig[:, idx]\n",
    "brain_qmax = brain_qmax_orig[:, idx]\n",
    "brain_qmed = brain_qmed_orig[:, idx]\n",
    "brain_qmin = brain_qmin_orig[:, idx]\n",
    "\n",
    "\n",
    "brain_enrich_qt = brain_enrich_qt_orig[:, idx]\n",
    "brain_go_qt = brain_go_qt_orig[:, idx]\n",
    "brain_qmed_logqt = brain_qmed_logqt_orig[:, idx]\n",
    "\n"
   ]
  },
  {
   "cell_type": "markdown",
   "metadata": {},
   "source": [
    "FIGURE 2"
   ]
  },
  {
   "cell_type": "code",
   "execution_count": 9,
   "metadata": {},
   "outputs": [
    {
     "name": "stdout",
     "output_type": "stream",
     "text": [
      "[[ 88   1   5  13 107]\n",
      " [ 17 188   0   7 212]\n",
      " [  3   0 185 138 326]\n",
      " [ 50  11  14  25 100]]\n",
      "[[15.   12.07 17.79  1.82 13.5 ]\n",
      " [22.87 23.    0.    5.85 22.4 ]\n",
      " [11.3   0.   22.12  6.56 15.4 ]\n",
      " [23.15 27.04 21.68  6.71 19.3 ]]\n",
      "[[ 10  93  74 177]\n",
      " [ 10  53  34  97]\n",
      " [  4  11  64  79]\n",
      " [  2  19  90 111]\n",
      " [ 93 163   0 256]]\n",
      "[[ 2.69  3.79 14.82  8.34]\n",
      " [ 1.3   3.92 10.9   6.09]\n",
      " [ 2.29  1.58 13.77 11.49]\n",
      " [ 1.    3.47 18.03 15.23]\n",
      " [ 1.82  1.14  0.    0.39]]\n"
     ]
    }
   ],
   "source": [
    "# FIGURE 2 TABLES\n",
    "\n",
    "print(brain)\n",
    "print(brain_deg)\n",
    "\n",
    "print(kidney)\n",
    "print(kidney_deg)\n",
    "\n",
    "\n"
   ]
  },
  {
   "cell_type": "code",
   "execution_count": 16,
   "metadata": {},
   "outputs": [
    {
     "data": {
      "image/png": "[encoded data removed]",
      "text/plain": [
       "<Figure size 432x288 with 2 Axes>"
      ]
     },
     "metadata": {},
     "output_type": "display_data"
    }
   ],
   "source": [
    "# Last column contains core clusters which is not included in article version\n",
    "\n",
    "ax = sns.heatmap(brain_deg, cmap=\"rocket_r\", vmin=0, vmax=30, annot=brain, fmt='g')"
   ]
  },
  {
   "cell_type": "code",
   "execution_count": 17,
   "metadata": {},
   "outputs": [
    {
     "data": {
      "image/png": "[encoded data removed]",
      "text/plain": [
       "<Figure size 432x288 with 2 Axes>"
      ]
     },
     "metadata": {},
     "output_type": "display_data"
    }
   ],
   "source": [
    "# Last column contains core clusters which is not included in article version\n",
    "\n",
    "ax = sns.heatmap(kidney_deg, cmap=\"rocket_r\", vmin=0, vmax=30, annot=kidney, fmt='g')"
   ]
  },
  {
   "cell_type": "markdown",
   "metadata": {},
   "source": [
    "FIGURE 3"
   ]
  },
  {
   "cell_type": "code",
   "execution_count": 5,
   "metadata": {},
   "outputs": [
    {
     "name": "stdout",
     "output_type": "stream",
     "text": [
      "531\n",
      "482\n",
      "508\n",
      "265\n",
      "199\n",
      "187\n"
     ]
    }
   ],
   "source": [
    "# FIGURE 3/A\n",
    "\n",
    "print(sum(brain_enrich_orig[:, -1]))\n",
    "print(sum(kidney_enrich[:, -1]))\n",
    "print(sum(lung_enrich[:, -1]))\n",
    "\n",
    "print(sum(brain_go_orig[:, -1]))\n",
    "print(sum(kidney_go[:, -1]))\n",
    "print(sum(lung_go[:, -1]))"
   ]
  },
  {
   "cell_type": "code",
   "execution_count": 15,
   "metadata": {},
   "outputs": [
    {
     "data": {
      "image/png": "[encoded data removed]",
      "text/plain": [
       "<Figure size 503.475x432 with 1 Axes>"
      ]
     },
     "metadata": {},
     "output_type": "display_data"
    }
   ],
   "source": [
    "values = [531, 482, 508, 265, 199, 187]\n",
    "labels = [\"enriched genes\", \"enriched genes\", \"enriched genes\", \n",
    "          \"enriched GO terms\", \"enriched GO terms\", \"enriched GO terms\"]\n",
    "tissues = [\"brain\", \"kidney\", \"lung\", \"brain\", \"kidney\", \"lung\"]\n",
    "\n",
    "df = pd.DataFrame({'values': values, 'labels': labels, 'tissues': tissues})\n",
    "\n",
    "g = sns.catplot(\n",
    "    data=df, kind=\"bar\",\n",
    "    x=\"labels\", y=\"values\", hue=\"tissues\",\n",
    "    ci=\"std\", palette=\"dark\", alpha=.6, height=6\n",
    ")\n",
    "\n",
    "g.set_axis_labels(\"\", \" \")\n",
    "g.legend.set_title(\"\")"
   ]
  },
  {
   "cell_type": "code",
   "execution_count": 13,
   "metadata": {},
   "outputs": [
    {
     "name": "stdout",
     "output_type": "stream",
     "text": [
      "[[  2   0   0  41]\n",
      " [ 25 119   0   0]\n",
      " [  0   0 133   7]\n",
      " [  9   3   4   0]]\n",
      "[[ 0  3 58]\n",
      " [ 0  2  0]\n",
      " [ 0  1 30]\n",
      " [ 0  7 94]\n",
      " [ 5 23  0]]\n",
      "[[ 0  0 42]\n",
      " [ 1  5 51]\n",
      " [ 4 39  0]\n",
      " [ 0  0  9]\n",
      " [ 0  2 51]]\n",
      "0.7801158999932302\n",
      "0.6002555017096894\n",
      "0.6365512470865269\n"
     ]
    }
   ],
   "source": [
    "# FIGURE 3/B\n",
    "\n",
    "\n",
    "print(brain_go[:, :-1])\n",
    "print(kidney_go[:, :-1])\n",
    "print(lung_go[:, :-1])\n",
    "\n",
    "print(cramer(brain_go[:, :-1]))\n",
    "print(cramer(kidney_go[:, :-1]))\n",
    "print(cramer(lung_go[:, :-1]))\n",
    "\n"
   ]
  },
  {
   "cell_type": "code",
   "execution_count": 14,
   "metadata": {},
   "outputs": [
    {
     "data": {
      "image/png": "[encoded data removed]",
      "text/plain": [
       "<Figure size 330.675x432 with 1 Axes>"
      ]
     },
     "metadata": {},
     "output_type": "display_data"
    }
   ],
   "source": [
    "values = [0.780, 0.600, 0.637]\n",
    "tissues = [\"brain\", \"kidney\", \"lung\"]\n",
    "df_cramer = pd.DataFrame({'values': values, 'tissues': tissues, 'labels': \"GO terms' Cramer's V values\"})\n",
    "\n",
    "g = sns.catplot(\n",
    "    data=df_cramer, kind=\"bar\",\n",
    "    x=\"labels\", y=\"values\", hue=\"tissues\",\n",
    "    ci=\"std\", palette=\"dark\", alpha=.6, height=6, aspect=.6\n",
    ")\n",
    "\n",
    "g.set_axis_labels(\"\", \" \")\n",
    "g.legend.set_title(\"\")"
   ]
  },
  {
   "cell_type": "code",
   "execution_count": 25,
   "metadata": {},
   "outputs": [
    {
     "name": "stdout",
     "output_type": "stream",
     "text": [
      "[[0.         0.         0.         0.61538462 0.10280374]\n",
      " [0.70588235 0.90425532 0.         0.         0.89622642]\n",
      " [0.         0.         0.85945946 0.26086957 0.76687117]\n",
      " [0.12       0.         0.         0.         0.        ]]\n"
     ]
    },
    {
     "name": "stderr",
     "output_type": "stream",
     "text": [
      "<ipython-input-25-facb143e3280>:1: RuntimeWarning: invalid value encountered in true_divide\n",
      "  brain_ratio_q = brain_enrich_qt / brain\n"
     ]
    }
   ],
   "source": [
    "brain_ratio_q = brain_enrich_qt / brain\n",
    "brain_ratio_q[np.isnan(brain_ratio_q)] = 0\n",
    "print(brain_ratio_q)"
   ]
  },
  {
   "cell_type": "code",
   "execution_count": 22,
   "metadata": {},
   "outputs": [
    {
     "name": "stdout",
     "output_type": "stream",
     "text": [
      "[[ 88   1   5  13 107]\n",
      " [ 17 188   0   7 212]\n",
      " [  3   0 185 138 326]\n",
      " [ 50  11  14  25 100]]\n",
      "[[0.         0.         0.         0.61538462 0.10280374]\n",
      " [0.70588235 0.90425532 0.         0.         0.89622642]\n",
      " [0.         0.         0.85945946 0.26086957 0.76687117]\n",
      " [0.12       0.         0.         0.         0.        ]]\n",
      "[[  0   0   0  24   3]\n",
      " [ 13 111   0   0 147]\n",
      " [  0   0 133   5  69]\n",
      " [  3   0   0   0   0]]\n",
      "[[0.         0.         0.         1.74958    1.63078414]\n",
      " [2.42945706 2.61261017        nan 0.         2.94692156]\n",
      " [0.                nan 3.17783192 2.1123827  3.4621809 ]\n",
      " [2.48945499 0.         0.         0.         0.        ]]\n"
     ]
    }
   ],
   "source": [
    "# FIGURE 4/A\n",
    "\n",
    "# Numbers\n",
    "print(brain)\n",
    "\n",
    "# Coloring\n",
    "print(brain_ratio_q)\n",
    "\n",
    "\n",
    "# FIGURE 4/B\n",
    "\n",
    "# Numbers\n",
    "print(brain_go_qt)\n",
    "\n",
    "# Coloring\n",
    "print(brain_qmed_logqt)"
   ]
  },
  {
   "cell_type": "code",
   "execution_count": 23,
   "metadata": {},
   "outputs": [
    {
     "data": {
      "image/png": "[encoded data removed]",
      "text/plain": [
       "<Figure size 432x288 with 2 Axes>"
      ]
     },
     "metadata": {},
     "output_type": "display_data"
    }
   ],
   "source": [
    "ax = sns.heatmap(brain_ratio_q, cmap=\"rocket_r\", annot=brain, fmt='g')\n",
    "plt.savefig('brain-ratio-contingency.svg')"
   ]
  },
  {
   "cell_type": "code",
   "execution_count": 24,
   "metadata": {},
   "outputs": [
    {
     "data": {
      "image/png": "[encoded data removed]",
      "text/plain": [
       "<Figure size 432x288 with 2 Axes>"
      ]
     },
     "metadata": {},
     "output_type": "display_data"
    }
   ],
   "source": [
    "ax = sns.heatmap(brain_qmed_logqt, cmap=\"rocket_r\", vmin=0, vmax=5, annot=brain_go_qt, fmt='g')\n",
    "plt.savefig('brain-q-contingency.svg')"
   ]
  },
  {
   "cell_type": "code",
   "execution_count": null,
   "metadata": {},
   "outputs": [],
   "source": []
  },
  {
   "cell_type": "code",
   "execution_count": null,
   "metadata": {},
   "outputs": [],
   "source": []
  }
 ],
 "metadata": {
  "kernelspec": {
   "display_name": "Python 3",
   "language": "python",
   "name": "python3"
  },
  "language_info": {
   "codemirror_mode": {
    "name": "ipython",
    "version": 3
   },
   "file_extension": ".py",
   "mimetype": "text/x-python",
   "name": "python",
   "nbconvert_exporter": "python",
   "pygments_lexer": "ipython3",
   "version": "3.8.5"
  }
 },
 "nbformat": 4,
 "nbformat_minor": 4
}
