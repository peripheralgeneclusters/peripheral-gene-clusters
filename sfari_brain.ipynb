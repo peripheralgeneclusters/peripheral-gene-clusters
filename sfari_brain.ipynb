{
 "cells": [
  {
   "cell_type": "markdown",
   "id": "nutritional-glasgow",
   "metadata": {},
   "source": [
    "In this notebook we do clustering on the small version of gene network that contains only Sfari genes, and save the clusters for further analysis. Can be used for other tissues in the same way."
   ]
  },
  {
   "cell_type": "code",
   "execution_count": 3,
   "id": "bacterial-volunteer",
   "metadata": {},
   "outputs": [],
   "source": [
    "import networkx as nx\n",
    "import pandas as pd\n",
    "import numpy as np\n",
    "import matplotlib.pyplot as plt\n",
    "import community"
   ]
  },
  {
   "cell_type": "markdown",
   "id": "simple-reflection",
   "metadata": {},
   "source": [
    "    The input file has to describe an undirected, weighted graph. \n",
    "    It contains info about the edges, has to be in the following format: \n",
    "        3 columns, first two are node IDs, the third one is the weight.\n",
    "        Node IDs should be Entrez IDs of genes, weights are floats \n",
    "        (functional interaction between genes).\n",
    "        \n",
    "    Example rows:\n",
    "        \n",
    "    Gene1 Gene2 Weight\n",
    "    9976  9987  0.134438\n",
    "    998   9986  0.158842\n",
    "    \n",
    "    Network used in this Notebook: GIANT Network (Troanskaya Labs - Princeton / Flatiron):\n",
    "    https://hb.flatironinstitute.org/download\n",
    "    Top Edges version"
   ]
  },
  {
   "cell_type": "code",
   "execution_count": null,
   "id": "straight-burst",
   "metadata": {},
   "outputs": [],
   "source": [
    "# Read GIANT Network for brain tissue - Top Edges\n",
    "df_giant = pd.read_csv(\"Data/brain_top\", sep='\\t', names = [\"g1\", \"g2\", \"w\"])"
   ]
  },
  {
   "cell_type": "code",
   "execution_count": null,
   "id": "irish-nutrition",
   "metadata": {},
   "outputs": [],
   "source": [
    "# List of Sfari genes\n",
    "df_sfari = pd.read_csv(\"Data/sfari-converted.csv\", sep='\\t', \n",
    "                       usecols=[\"symbol\", \"score\", \"entrez\"])\n",
    "\n",
    "# remove genes with null score\n",
    "df_sfari = df_sfari[df_sfari.score.notnull()]\n",
    "print(str(df_sfari.shape) + \"\\n\")\n",
    "\n",
    "# remove genes with 6 score\n",
    "df_sfari = df_sfari[df_sfari.score != 6.0]\n",
    "print(str(df_sfari.shape) + \"\\n\")\n",
    "\n",
    "# remove genes with 5 score\n",
    "df_sfari = df_sfari[df_sfari.score != 5.0]\n",
    "print(str(df_sfari.shape) + \"\\n\")"
   ]
  },
  {
   "cell_type": "code",
   "execution_count": null,
   "id": "sound-rubber",
   "metadata": {},
   "outputs": [],
   "source": [
    "gene_list = df_sfari.entrez.to_list()\n",
    "gene_list = [int(a) for a in gene_list if str(a) != 'nan']\n",
    "print(len(gene_list))"
   ]
  },
  {
   "cell_type": "code",
   "execution_count": null,
   "id": "corrected-freight",
   "metadata": {},
   "outputs": [],
   "source": [
    "# from GIANT network keep only those edges where both genes belong to the sfari list.\n",
    "df_g = df_giant[df_giant['g1'].isin(gene_list) & df_giant['g2'].isin(gene_list)] "
   ]
  },
  {
   "cell_type": "code",
   "execution_count": null,
   "id": "turned-mixture",
   "metadata": {},
   "outputs": [],
   "source": [
    "# build networkx graph\n",
    "G = nx.Graph()\n",
    "for row in df_g.itertuples():\n",
    "    G.add_edge(row[1], row[2], weight=row[3])"
   ]
  },
  {
   "cell_type": "code",
   "execution_count": null,
   "id": "polish-steel",
   "metadata": {},
   "outputs": [],
   "source": [
    "# quick look at the graph\n",
    "print(nx.is_connected(G))\n",
    "print(len(G.edges()))\n",
    "print(len(G.nodes()))\n",
    "\n",
    "print(df_g[\"w\"].mean())\n",
    "\n",
    "# degree based on weight sum\n",
    "gdegree = G.degree(weight=\"weight\")\n",
    "print(np.mean(list(dict(gdegree).values())))"
   ]
  },
  {
   "cell_type": "code",
   "execution_count": 6,
   "id": "transparent-suicide",
   "metadata": {},
   "outputs": [],
   "source": [
    "# node strength (based on edge weights) distribution histogram\n",
    "plt.hist(list(dict(gdegree).values()), bins=50)"
   ]
  },
  {
   "cell_type": "code",
   "execution_count": null,
   "id": "backed-conjunction",
   "metadata": {},
   "outputs": [],
   "source": [
    "# Louvain community detection - https://python-louvain.readthedocs.io/en/latest/\n",
    "partition = community.best_partition(G)\n",
    "\n",
    "for com in set(partition.values()) :\n",
    "    list_nodes = [nodes for nodes in partition.keys()\n",
    "                                if partition[nodes] == com]\n",
    "    \n",
    "    outstr = \"small_giant_brain_louvain/giant-\" + str(com) + \".txt\"\n",
    "    \n",
    "    # uncomment to save gene list to file\n",
    "    # np.savetxt(outstr, list_nodes, \"%i\")\n",
    "    \n",
    "    # see the size of each partition\n",
    "    print(str(com) + \": \" + str(len(list_nodes)))\n",
    "\n"
   ]
  },
  {
   "cell_type": "code",
   "execution_count": null,
   "id": "stunning-kernel",
   "metadata": {},
   "outputs": [],
   "source": [
    "# Need to save node strength for each gene, to visualize in boxplot\n",
    "# (same info as 'gdegree', but different format for convenience)\n",
    "wdegree = [b for (a,b) in G.degree(weight=\"weight\")]\n",
    "print(len(wdegree))\n",
    "\n",
    "# uncomment to save file\n",
    "# np.savetxt(\"boxplot_degree/brain-degrees.txt\", wdegree, fmt='%1.3f')"
   ]
  },
  {
   "cell_type": "code",
   "execution_count": null,
   "id": "ceramic-difference",
   "metadata": {},
   "outputs": [],
   "source": []
  }
 ],
 "metadata": {
  "kernelspec": {
   "display_name": "Python 3",
   "language": "python",
   "name": "python3"
  },
  "language_info": {
   "codemirror_mode": {
    "name": "ipython",
    "version": 3
   },
   "file_extension": ".py",
   "mimetype": "text/x-python",
   "name": "python",
   "nbconvert_exporter": "python",
   "pygments_lexer": "ipython3",
   "version": "3.8.5"
  }
 },
 "nbformat": 4,
 "nbformat_minor": 5
}
